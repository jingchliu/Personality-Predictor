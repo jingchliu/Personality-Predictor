{
 "cells": [
  {
   "cell_type": "code",
   "execution_count": 1,
   "metadata": {},
   "outputs": [],
   "source": [
    "import pandas as pd\n",
    "import joblib"
   ]
  },
  {
   "cell_type": "markdown",
   "metadata": {},
   "source": [
    "# Read the CSV and Perform Basic Data Cleaning"
   ]
  },
  {
   "cell_type": "code",
   "execution_count": 5,
   "metadata": {},
   "outputs": [
    {
     "data": {
      "text/html": [
       "<div>\n",
       "<style scoped>\n",
       "    .dataframe tbody tr th:only-of-type {\n",
       "        vertical-align: middle;\n",
       "    }\n",
       "\n",
       "    .dataframe tbody tr th {\n",
       "        vertical-align: top;\n",
       "    }\n",
       "\n",
       "    .dataframe thead th {\n",
       "        text-align: right;\n",
       "    }\n",
       "</style>\n",
       "<table border=\"1\" class=\"dataframe\">\n",
       "  <thead>\n",
       "    <tr style=\"text-align: right;\">\n",
       "      <th></th>\n",
       "      <th>type</th>\n",
       "      <th>posts</th>\n",
       "      <th>description</th>\n",
       "      <th>i_e</th>\n",
       "      <th>n_s</th>\n",
       "      <th>f_t</th>\n",
       "      <th>j_p</th>\n",
       "      <th>sentiment_score</th>\n",
       "      <th>words_per_comment</th>\n",
       "      <th>squared_total_words</th>\n",
       "      <th>...</th>\n",
       "      <th>adjectives</th>\n",
       "      <th>adjective_count</th>\n",
       "      <th>verbs</th>\n",
       "      <th>verb_count</th>\n",
       "      <th>determiners</th>\n",
       "      <th>determiner_count</th>\n",
       "      <th>interjections</th>\n",
       "      <th>interjection_count</th>\n",
       "      <th>prepositions</th>\n",
       "      <th>preposition_count</th>\n",
       "    </tr>\n",
       "  </thead>\n",
       "  <tbody>\n",
       "    <tr>\n",
       "      <th>0</th>\n",
       "      <td>INFJ</td>\n",
       "      <td>'http://www.youtube.com/watch?v=qsXHcwe3krw|||...</td>\n",
       "      <td>Introvert Intuition Feeling Judging</td>\n",
       "      <td>I</td>\n",
       "      <td>N</td>\n",
       "      <td>F</td>\n",
       "      <td>J</td>\n",
       "      <td>0.047100</td>\n",
       "      <td>11.12</td>\n",
       "      <td>22.24</td>\n",
       "      <td>...</td>\n",
       "      <td>['intj', 'life-changing', 'most', 'last', 'nex...</td>\n",
       "      <td>51</td>\n",
       "      <td>['top', 'has', 'been', 'posted', 'committing',...</td>\n",
       "      <td>90</td>\n",
       "      <td>['the', 'the', 'the', 'a', 'the', 'every', 'th...</td>\n",
       "      <td>52</td>\n",
       "      <td>[]</td>\n",
       "      <td>0</td>\n",
       "      <td>['in', 'On', 'for', 'of', 'on', 'before', 'in'...</td>\n",
       "      <td>78</td>\n",
       "    </tr>\n",
       "    <tr>\n",
       "      <th>1</th>\n",
       "      <td>ENTP</td>\n",
       "      <td>'I'm finding the lack of me in these posts ver...</td>\n",
       "      <td>Extrovert Intuition Thinking Perceiving</td>\n",
       "      <td>E</td>\n",
       "      <td>N</td>\n",
       "      <td>T</td>\n",
       "      <td>P</td>\n",
       "      <td>0.388976</td>\n",
       "      <td>23.40</td>\n",
       "      <td>46.80</td>\n",
       "      <td>...</td>\n",
       "      <td>['same', 'missionary', 'new', 'theory.Hello', ...</td>\n",
       "      <td>96</td>\n",
       "      <td>[\"'m\", 'finding', 'be', 'boring', \"'s\", 'are',...</td>\n",
       "      <td>257</td>\n",
       "      <td>['the', 'these', 'the', 'an', 'all', 'the', 't...</td>\n",
       "      <td>90</td>\n",
       "      <td>[]</td>\n",
       "      <td>0</td>\n",
       "      <td>['of', 'in', 'if', 'in', 'For', 'in', 'Than', ...</td>\n",
       "      <td>136</td>\n",
       "    </tr>\n",
       "    <tr>\n",
       "      <th>2</th>\n",
       "      <td>INTP</td>\n",
       "      <td>'Good one  _____   https://www.youtube.com/wat...</td>\n",
       "      <td>Introvert Intuition Thinking Perceiving</td>\n",
       "      <td>I</td>\n",
       "      <td>N</td>\n",
       "      <td>T</td>\n",
       "      <td>P</td>\n",
       "      <td>0.620244</td>\n",
       "      <td>16.72</td>\n",
       "      <td>33.44</td>\n",
       "      <td>...</td>\n",
       "      <td>['positive', 'best', 'amazing', 'more', 'So-ca...</td>\n",
       "      <td>82</td>\n",
       "      <td>['say', 'know', \"'s\", 'being', 'be', \"'s\", 'be...</td>\n",
       "      <td>166</td>\n",
       "      <td>['that', 'an', 'a', 'any', 'All', 'the', 'that...</td>\n",
       "      <td>52</td>\n",
       "      <td>['yes', 'No', 'Oh', 'Yessss', 'Oh']</td>\n",
       "      <td>5</td>\n",
       "      <td>['that', 'If', 'than', 'in', 'in', 'at', 'for'...</td>\n",
       "      <td>91</td>\n",
       "    </tr>\n",
       "    <tr>\n",
       "      <th>3</th>\n",
       "      <td>INTJ</td>\n",
       "      <td>'Dear INTP,   I enjoyed our conversation the o...</td>\n",
       "      <td>Introvert Intuition Thinking Judging</td>\n",
       "      <td>I</td>\n",
       "      <td>N</td>\n",
       "      <td>T</td>\n",
       "      <td>J</td>\n",
       "      <td>0.807546</td>\n",
       "      <td>21.28</td>\n",
       "      <td>42.56</td>\n",
       "      <td>...</td>\n",
       "      <td>[\"'Dear\", 'other', 'social', 'arbitrary', 'oth...</td>\n",
       "      <td>93</td>\n",
       "      <td>['enjoyed', 'gabbing', 'being', 'created', 'hu...</td>\n",
       "      <td>233</td>\n",
       "      <td>['the', 'the', 'the', 'the', 'every', 'no', 'A...</td>\n",
       "      <td>94</td>\n",
       "      <td>[]</td>\n",
       "      <td>0</td>\n",
       "      <td>['about', 'of', 'of', 'in', 'on', 'like', 'in'...</td>\n",
       "      <td>124</td>\n",
       "    </tr>\n",
       "    <tr>\n",
       "      <th>4</th>\n",
       "      <td>ENTJ</td>\n",
       "      <td>'You're fired.|||That's another silly misconce...</td>\n",
       "      <td>Extrovert Intuition Thinking Judging</td>\n",
       "      <td>E</td>\n",
       "      <td>N</td>\n",
       "      <td>T</td>\n",
       "      <td>J</td>\n",
       "      <td>0.861824</td>\n",
       "      <td>19.34</td>\n",
       "      <td>38.68</td>\n",
       "      <td>...</td>\n",
       "      <td>['silly', 'super-duper-long-ass', 'permanent',...</td>\n",
       "      <td>87</td>\n",
       "      <td>[\"'re\", \"'s\", 'approaching', 'is', 'is', 'goin...</td>\n",
       "      <td>229</td>\n",
       "      <td>['another', 'the', 'a', 'the', 'that', 'that',...</td>\n",
       "      <td>84</td>\n",
       "      <td>['Oh', 'Yes']</td>\n",
       "      <td>2</td>\n",
       "      <td>['That', 'with', 'on', 'on', 'about', 'If', 'f...</td>\n",
       "      <td>84</td>\n",
       "    </tr>\n",
       "  </tbody>\n",
       "</table>\n",
       "<p>5 rows × 25 columns</p>\n",
       "</div>"
      ],
      "text/plain": [
       "   type                                              posts  \\\n",
       "0  INFJ  'http://www.youtube.com/watch?v=qsXHcwe3krw|||...   \n",
       "1  ENTP  'I'm finding the lack of me in these posts ver...   \n",
       "2  INTP  'Good one  _____   https://www.youtube.com/wat...   \n",
       "3  INTJ  'Dear INTP,   I enjoyed our conversation the o...   \n",
       "4  ENTJ  'You're fired.|||That's another silly misconce...   \n",
       "\n",
       "                               description i_e n_s f_t j_p  sentiment_score  \\\n",
       "0      Introvert Intuition Feeling Judging   I   N   F   J         0.047100   \n",
       "1  Extrovert Intuition Thinking Perceiving   E   N   T   P         0.388976   \n",
       "2  Introvert Intuition Thinking Perceiving   I   N   T   P         0.620244   \n",
       "3     Introvert Intuition Thinking Judging   I   N   T   J         0.807546   \n",
       "4     Extrovert Intuition Thinking Judging   E   N   T   J         0.861824   \n",
       "\n",
       "   words_per_comment  squared_total_words  ...  \\\n",
       "0              11.12                22.24  ...   \n",
       "1              23.40                46.80  ...   \n",
       "2              16.72                33.44  ...   \n",
       "3              21.28                42.56  ...   \n",
       "4              19.34                38.68  ...   \n",
       "\n",
       "                                          adjectives  adjective_count  \\\n",
       "0  ['intj', 'life-changing', 'most', 'last', 'nex...               51   \n",
       "1  ['same', 'missionary', 'new', 'theory.Hello', ...               96   \n",
       "2  ['positive', 'best', 'amazing', 'more', 'So-ca...               82   \n",
       "3  [\"'Dear\", 'other', 'social', 'arbitrary', 'oth...               93   \n",
       "4  ['silly', 'super-duper-long-ass', 'permanent',...               87   \n",
       "\n",
       "                                               verbs verb_count  \\\n",
       "0  ['top', 'has', 'been', 'posted', 'committing',...         90   \n",
       "1  [\"'m\", 'finding', 'be', 'boring', \"'s\", 'are',...        257   \n",
       "2  ['say', 'know', \"'s\", 'being', 'be', \"'s\", 'be...        166   \n",
       "3  ['enjoyed', 'gabbing', 'being', 'created', 'hu...        233   \n",
       "4  [\"'re\", \"'s\", 'approaching', 'is', 'is', 'goin...        229   \n",
       "\n",
       "                                         determiners determiner_count  \\\n",
       "0  ['the', 'the', 'the', 'a', 'the', 'every', 'th...               52   \n",
       "1  ['the', 'these', 'the', 'an', 'all', 'the', 't...               90   \n",
       "2  ['that', 'an', 'a', 'any', 'All', 'the', 'that...               52   \n",
       "3  ['the', 'the', 'the', 'the', 'every', 'no', 'A...               94   \n",
       "4  ['another', 'the', 'a', 'the', 'that', 'that',...               84   \n",
       "\n",
       "                         interjections interjection_count  \\\n",
       "0                                   []                  0   \n",
       "1                                   []                  0   \n",
       "2  ['yes', 'No', 'Oh', 'Yessss', 'Oh']                  5   \n",
       "3                                   []                  0   \n",
       "4                        ['Oh', 'Yes']                  2   \n",
       "\n",
       "                                        prepositions preposition_count  \n",
       "0  ['in', 'On', 'for', 'of', 'on', 'before', 'in'...                78  \n",
       "1  ['of', 'in', 'if', 'in', 'For', 'in', 'Than', ...               136  \n",
       "2  ['that', 'If', 'than', 'in', 'in', 'at', 'for'...                91  \n",
       "3  ['about', 'of', 'of', 'in', 'on', 'like', 'in'...               124  \n",
       "4  ['That', 'with', 'on', 'on', 'about', 'If', 'f...                84  \n",
       "\n",
       "[5 rows x 25 columns]"
      ]
     },
     "execution_count": 5,
     "metadata": {},
     "output_type": "execute_result"
    }
   ],
   "source": [
    "mbti_df = pd.read_csv(\"Resources/mbti_final.csv\")\n",
    "mbti_df.head()"
   ]
  },
  {
   "cell_type": "code",
   "execution_count": 6,
   "metadata": {},
   "outputs": [
    {
     "data": {
      "text/plain": [
       "Index(['type', 'posts', 'description', 'i_e', 'n_s', 'f_t', 'j_p',\n",
       "       'sentiment_score', 'words_per_comment', 'squared_total_words',\n",
       "       'word_count_variance_per_comment', 'interrobangs_per_comment',\n",
       "       'Tagged Posts PosTag', 'nouns', 'noun_count', 'adjectives',\n",
       "       'adjective_count', 'verbs', 'verb_count', 'determiners',\n",
       "       'determiner_count', 'interjections', 'interjection_count',\n",
       "       'prepositions', 'preposition_count'],\n",
       "      dtype='object')"
      ]
     },
     "execution_count": 6,
     "metadata": {},
     "output_type": "execute_result"
    }
   ],
   "source": [
    "mbti_df.columns"
   ]
  },
  {
   "cell_type": "markdown",
   "metadata": {},
   "source": [
    "# Select features (columns)"
   ]
  },
  {
   "cell_type": "code",
   "execution_count": 7,
   "metadata": {},
   "outputs": [
    {
     "name": "stdout",
     "output_type": "stream",
     "text": [
      "(8675, 11) (8675, 1)\n"
     ]
    }
   ],
   "source": [
    "X = mbti_df[['sentiment_score', 'words_per_comment', 'squared_total_words',\n",
    "       'word_count_variance_per_comment', 'interrobangs_per_comment','noun_count', \n",
    "       'adjective_count', 'verb_count', \n",
    "       'determiner_count', 'interjection_count','preposition_count']]\n",
    "y = mbti_df[\"type\"].values.reshape(-1, 1)\n",
    "print(X.shape, y.shape)"
   ]
  },
  {
   "cell_type": "markdown",
   "metadata": {},
   "source": [
    "# Create a Train Test Split"
   ]
  },
  {
   "cell_type": "code",
   "execution_count": 8,
   "metadata": {},
   "outputs": [],
   "source": [
    "from sklearn.model_selection import train_test_split\n",
    "X_train, X_test, y_train, y_test = train_test_split(X, y, random_state=42)"
   ]
  },
  {
   "cell_type": "code",
   "execution_count": 9,
   "metadata": {},
   "outputs": [
    {
     "name": "stderr",
     "output_type": "stream",
     "text": [
      "/Users/Jo/anaconda3/envs/PythonData/lib/python3.6/site-packages/sklearn/preprocessing/label.py:219: DataConversionWarning: A column-vector y was passed when a 1d array was expected. Please change the shape of y to (n_samples, ), for example using ravel().\n",
      "  y = column_or_1d(y, warn=True)\n",
      "/Users/Jo/anaconda3/envs/PythonData/lib/python3.6/site-packages/sklearn/preprocessing/label.py:252: DataConversionWarning: A column-vector y was passed when a 1d array was expected. Please change the shape of y to (n_samples, ), for example using ravel().\n",
      "  y = column_or_1d(y, warn=True)\n"
     ]
    }
   ],
   "source": [
    "# Scale your data\n",
    "from sklearn.preprocessing import StandardScaler\n",
    "\n",
    "X_scaler = StandardScaler().fit(X_train)\n",
    "X_train_scaled = X_scaler.transform(X_train)\n",
    "X_test_scaled = X_scaler.transform(X_test)\n",
    "\n",
    "from sklearn.preprocessing import LabelEncoder, MinMaxScaler\n",
    "label_encoder = LabelEncoder()\n",
    "label_encoder.fit(y_train)\n",
    "encoded_y_train = label_encoder.transform(y_train)\n",
    "encoded_y_test = label_encoder.transform(y_test)"
   ]
  },
  {
   "cell_type": "markdown",
   "metadata": {},
   "source": [
    "# Train the Model"
   ]
  },
  {
   "cell_type": "code",
   "execution_count": 10,
   "metadata": {},
   "outputs": [
    {
     "name": "stderr",
     "output_type": "stream",
     "text": [
      "/Users/Jo/anaconda3/envs/PythonData/lib/python3.6/site-packages/sklearn/linear_model/logistic.py:432: FutureWarning: Default solver will be changed to 'lbfgs' in 0.22. Specify a solver to silence this warning.\n",
      "  FutureWarning)\n",
      "/Users/Jo/anaconda3/envs/PythonData/lib/python3.6/site-packages/sklearn/linear_model/logistic.py:469: FutureWarning: Default multi_class will be changed to 'auto' in 0.22. Specify the multi_class option to silence this warning.\n",
      "  \"this warning.\", FutureWarning)\n"
     ]
    },
    {
     "name": "stdout",
     "output_type": "stream",
     "text": [
      "Training Data Score: 0.2351675376575469\n",
      "Testing Data Score: 0.22821576763485477\n"
     ]
    }
   ],
   "source": [
    "from sklearn.linear_model import LogisticRegression\n",
    "classifier = LogisticRegression()\n",
    "\n",
    "classifier.fit(X_train_scaled, encoded_y_train)\n",
    "\n",
    "print(f\"Training Data Score: {classifier.score(X_train_scaled, encoded_y_train)}\")\n",
    "print(f\"Testing Data Score: {classifier.score(X_test_scaled, encoded_y_test)}\")"
   ]
  },
  {
   "cell_type": "markdown",
   "metadata": {},
   "source": [
    "# Re-test for I vs. E"
   ]
  },
  {
   "cell_type": "code",
   "execution_count": 11,
   "metadata": {},
   "outputs": [
    {
     "name": "stdout",
     "output_type": "stream",
     "text": [
      "Training Data Score: 0.7657546879803259\n",
      "Testing Data Score: 0.7828492392807745\n"
     ]
    },
    {
     "name": "stderr",
     "output_type": "stream",
     "text": [
      "/Users/Jo/anaconda3/envs/PythonData/lib/python3.6/site-packages/sklearn/preprocessing/label.py:219: DataConversionWarning: A column-vector y was passed when a 1d array was expected. Please change the shape of y to (n_samples, ), for example using ravel().\n",
      "  y = column_or_1d(y, warn=True)\n",
      "/Users/Jo/anaconda3/envs/PythonData/lib/python3.6/site-packages/sklearn/preprocessing/label.py:252: DataConversionWarning: A column-vector y was passed when a 1d array was expected. Please change the shape of y to (n_samples, ), for example using ravel().\n",
      "  y = column_or_1d(y, warn=True)\n",
      "/Users/Jo/anaconda3/envs/PythonData/lib/python3.6/site-packages/sklearn/linear_model/logistic.py:432: FutureWarning: Default solver will be changed to 'lbfgs' in 0.22. Specify a solver to silence this warning.\n",
      "  FutureWarning)\n"
     ]
    }
   ],
   "source": [
    "y = mbti_df[\"i_e\"].values.reshape(-1, 1)\n",
    "\n",
    "X_train, X_test, y_train, y_test = train_test_split(X, y, random_state=42)\n",
    "\n",
    "#  Scale your data\n",
    "X_scaler = StandardScaler().fit(X_train)\n",
    "X_train_scaled = X_scaler.transform(X_train)\n",
    "X_test_scaled = X_scaler.transform(X_test)\n",
    "\n",
    "\n",
    "label_encoder = LabelEncoder()\n",
    "label_encoder.fit(y_train)\n",
    "encoded_y_train = label_encoder.transform(y_train)\n",
    "encoded_y_test = label_encoder.transform(y_test)\n",
    "\n",
    "classifier.fit(X_train_scaled, encoded_y_train)\n",
    "\n",
    "print(f\"Training Data Score: {classifier.score(X_train_scaled, encoded_y_train)}\")\n",
    "print(f\"Testing Data Score: {classifier.score(X_test_scaled, encoded_y_test)}\")"
   ]
  },
  {
   "cell_type": "markdown",
   "metadata": {},
   "source": [
    "# Re-test for N vs. S"
   ]
  },
  {
   "cell_type": "code",
   "execution_count": 12,
   "metadata": {},
   "outputs": [
    {
     "name": "stdout",
     "output_type": "stream",
     "text": [
      "Training Data Score: 0.8633569013218567\n",
      "Testing Data Score: 0.8584601198709082\n"
     ]
    },
    {
     "name": "stderr",
     "output_type": "stream",
     "text": [
      "/Users/Jo/anaconda3/envs/PythonData/lib/python3.6/site-packages/sklearn/preprocessing/label.py:219: DataConversionWarning: A column-vector y was passed when a 1d array was expected. Please change the shape of y to (n_samples, ), for example using ravel().\n",
      "  y = column_or_1d(y, warn=True)\n",
      "/Users/Jo/anaconda3/envs/PythonData/lib/python3.6/site-packages/sklearn/preprocessing/label.py:252: DataConversionWarning: A column-vector y was passed when a 1d array was expected. Please change the shape of y to (n_samples, ), for example using ravel().\n",
      "  y = column_or_1d(y, warn=True)\n",
      "/Users/Jo/anaconda3/envs/PythonData/lib/python3.6/site-packages/sklearn/linear_model/logistic.py:432: FutureWarning: Default solver will be changed to 'lbfgs' in 0.22. Specify a solver to silence this warning.\n",
      "  FutureWarning)\n"
     ]
    }
   ],
   "source": [
    "y = mbti_df[\"n_s\"].values.reshape(-1, 1)\n",
    "\n",
    "X_train, X_test, y_train, y_test = train_test_split(X, y, random_state=42)\n",
    "\n",
    "#  Scale your data\n",
    "X_scaler = StandardScaler().fit(X_train)\n",
    "X_train_scaled = X_scaler.transform(X_train)\n",
    "X_test_scaled = X_scaler.transform(X_test)\n",
    "\n",
    "\n",
    "label_encoder = LabelEncoder()\n",
    "label_encoder.fit(y_train)\n",
    "encoded_y_train = label_encoder.transform(y_train)\n",
    "encoded_y_test = label_encoder.transform(y_test)\n",
    "\n",
    "classifier.fit(X_train_scaled, encoded_y_train)\n",
    "\n",
    "print(f\"Training Data Score: {classifier.score(X_train_scaled, encoded_y_train)}\")\n",
    "print(f\"Testing Data Score: {classifier.score(X_test_scaled, encoded_y_test)}\")"
   ]
  },
  {
   "cell_type": "markdown",
   "metadata": {},
   "source": [
    "# Re-test for F vs. T"
   ]
  },
  {
   "cell_type": "code",
   "execution_count": 13,
   "metadata": {},
   "outputs": [
    {
     "name": "stdout",
     "output_type": "stream",
     "text": [
      "Training Data Score: 0.6039040885336613\n",
      "Testing Data Score: 0.611802674043338\n"
     ]
    },
    {
     "name": "stderr",
     "output_type": "stream",
     "text": [
      "/Users/Jo/anaconda3/envs/PythonData/lib/python3.6/site-packages/sklearn/preprocessing/label.py:219: DataConversionWarning: A column-vector y was passed when a 1d array was expected. Please change the shape of y to (n_samples, ), for example using ravel().\n",
      "  y = column_or_1d(y, warn=True)\n",
      "/Users/Jo/anaconda3/envs/PythonData/lib/python3.6/site-packages/sklearn/preprocessing/label.py:252: DataConversionWarning: A column-vector y was passed when a 1d array was expected. Please change the shape of y to (n_samples, ), for example using ravel().\n",
      "  y = column_or_1d(y, warn=True)\n",
      "/Users/Jo/anaconda3/envs/PythonData/lib/python3.6/site-packages/sklearn/linear_model/logistic.py:432: FutureWarning: Default solver will be changed to 'lbfgs' in 0.22. Specify a solver to silence this warning.\n",
      "  FutureWarning)\n"
     ]
    }
   ],
   "source": [
    "y = mbti_df[\"f_t\"].values.reshape(-1, 1)\n",
    "\n",
    "X_train, X_test, y_train, y_test = train_test_split(X, y, random_state=42)\n",
    "\n",
    "#  Scale your data\n",
    "X_scaler = StandardScaler().fit(X_train)\n",
    "X_train_scaled = X_scaler.transform(X_train)\n",
    "X_test_scaled = X_scaler.transform(X_test)\n",
    "\n",
    "\n",
    "label_encoder = LabelEncoder()\n",
    "label_encoder.fit(y_train)\n",
    "encoded_y_train = label_encoder.transform(y_train)\n",
    "encoded_y_test = label_encoder.transform(y_test)\n",
    "\n",
    "classifier.fit(X_train_scaled, encoded_y_train)\n",
    "\n",
    "print(f\"Training Data Score: {classifier.score(X_train_scaled, encoded_y_train)}\")\n",
    "print(f\"Testing Data Score: {classifier.score(X_test_scaled, encoded_y_test)}\")"
   ]
  },
  {
   "cell_type": "markdown",
   "metadata": {},
   "source": [
    "# Re-test for J vs. P"
   ]
  },
  {
   "cell_type": "code",
   "execution_count": 14,
   "metadata": {
    "scrolled": true
   },
   "outputs": [
    {
     "name": "stdout",
     "output_type": "stream",
     "text": [
      "Training Data Score: 0.6026744543498309\n",
      "Testing Data Score: 0.6099585062240664\n"
     ]
    },
    {
     "name": "stderr",
     "output_type": "stream",
     "text": [
      "/Users/Jo/anaconda3/envs/PythonData/lib/python3.6/site-packages/sklearn/preprocessing/label.py:219: DataConversionWarning: A column-vector y was passed when a 1d array was expected. Please change the shape of y to (n_samples, ), for example using ravel().\n",
      "  y = column_or_1d(y, warn=True)\n",
      "/Users/Jo/anaconda3/envs/PythonData/lib/python3.6/site-packages/sklearn/preprocessing/label.py:252: DataConversionWarning: A column-vector y was passed when a 1d array was expected. Please change the shape of y to (n_samples, ), for example using ravel().\n",
      "  y = column_or_1d(y, warn=True)\n",
      "/Users/Jo/anaconda3/envs/PythonData/lib/python3.6/site-packages/sklearn/linear_model/logistic.py:432: FutureWarning: Default solver will be changed to 'lbfgs' in 0.22. Specify a solver to silence this warning.\n",
      "  FutureWarning)\n"
     ]
    }
   ],
   "source": [
    "y = mbti_df[\"j_p\"].values.reshape(-1, 1)\n",
    "\n",
    "X_train, X_test, y_train, y_test = train_test_split(X, y, random_state=42)\n",
    "\n",
    "#  Scale your data\n",
    "X_scaler = StandardScaler().fit(X_train)\n",
    "X_train_scaled = X_scaler.transform(X_train)\n",
    "X_test_scaled = X_scaler.transform(X_test)\n",
    "\n",
    "label_encoder = LabelEncoder()\n",
    "label_encoder.fit(y_train)\n",
    "encoded_y_train = label_encoder.transform(y_train)\n",
    "encoded_y_test = label_encoder.transform(y_test)\n",
    "\n",
    "classifier.fit(X_train_scaled, encoded_y_train)\n",
    "\n",
    "print(f\"Training Data Score: {classifier.score(X_train_scaled, encoded_y_train)}\")\n",
    "print(f\"Testing Data Score: {classifier.score(X_test_scaled, encoded_y_test)}\")"
   ]
  },
  {
   "cell_type": "markdown",
   "metadata": {},
   "source": [
    "# Decision Trees & Random Forests"
   ]
  },
  {
   "cell_type": "code",
   "execution_count": 15,
   "metadata": {},
   "outputs": [
    {
     "name": "stderr",
     "output_type": "stream",
     "text": [
      "/Users/Jo/anaconda3/envs/PythonData/lib/python3.6/site-packages/sklearn/preprocessing/label.py:219: DataConversionWarning: A column-vector y was passed when a 1d array was expected. Please change the shape of y to (n_samples, ), for example using ravel().\n",
      "  y = column_or_1d(y, warn=True)\n",
      "/Users/Jo/anaconda3/envs/PythonData/lib/python3.6/site-packages/sklearn/preprocessing/label.py:252: DataConversionWarning: A column-vector y was passed when a 1d array was expected. Please change the shape of y to (n_samples, ), for example using ravel().\n",
      "  y = column_or_1d(y, warn=True)\n"
     ]
    },
    {
     "name": "stdout",
     "output_type": "stream",
     "text": [
      "Decision Tree Score: 0.14522821576763487\n",
      "Random Forest Score: 0.21161825726141079\n"
     ]
    },
    {
     "data": {
      "text/plain": [
       "[(0.10607126287515803, 'word_count_variance_per_comment'),\n",
       " (0.1053778143696191, 'sentiment score'),\n",
       " (0.0969773891890511, 'noun_count'),\n",
       " (0.09414476130943558, 'verb_count'),\n",
       " (0.09392593025859623, 'determiner_count'),\n",
       " (0.09312322813715328, 'adjective_count'),\n",
       " (0.0917342571491073, 'interrobangs_per_comment'),\n",
       " (0.09159333958390575, 'preposition_count'),\n",
       " (0.08596023466590132, 'squared_total_words'),\n",
       " (0.08533454407780629, 'words_per_comment'),\n",
       " (0.05575723838426618, 'interjection_count')]"
      ]
     },
     "execution_count": 15,
     "metadata": {},
     "output_type": "execute_result"
    }
   ],
   "source": [
    "X = mbti_df[['sentiment_score', 'words_per_comment', 'squared_total_words',\n",
    "       'word_count_variance_per_comment', 'interrobangs_per_comment','noun_count', \n",
    "       'adjective_count', 'verb_count', \n",
    "       'determiner_count', 'interjection_count','preposition_count']]\n",
    "y = mbti_df[\"type\"].values.reshape(-1, 1)\n",
    "feature_names = ['sentiment score', 'words_per_comment', 'squared_total_words',\n",
    "       'word_count_variance_per_comment', 'interrobangs_per_comment','noun_count', \n",
    "       'adjective_count', 'verb_count', \n",
    "       'determiner_count', 'interjection_count','preposition_count']\n",
    "\n",
    "X_train, X_test, y_train, y_test = train_test_split(X, y, random_state=42)\n",
    "\n",
    "#  Scale your data\n",
    "X_scaler = StandardScaler().fit(X_train)\n",
    "X_train_scaled = X_scaler.transform(X_train)\n",
    "X_test_scaled = X_scaler.transform(X_test)\n",
    "\n",
    "label_encoder = LabelEncoder()\n",
    "label_encoder.fit(y_train)\n",
    "encoded_y_train = label_encoder.transform(y_train)\n",
    "encoded_y_test = label_encoder.transform(y_test)\n",
    "\n",
    "from sklearn import tree\n",
    "clf = tree.DecisionTreeClassifier()\n",
    "clf = clf.fit(X_train_scaled, encoded_y_train)\n",
    "tree_score = clf.score(X_test_scaled, encoded_y_test)\n",
    "print(f'Decision Tree Score: {tree_score}')\n",
    "\n",
    "from sklearn.ensemble import RandomForestClassifier\n",
    "rf = RandomForestClassifier(n_estimators=200)\n",
    "rf = rf.fit(X_train_scaled, encoded_y_train)\n",
    "forest_score = rf.score(X_test_scaled, encoded_y_test)\n",
    "importances = rf.feature_importances_\n",
    "print(f'Random Forest Score: {forest_score}')\n",
    "sorted(zip(rf.feature_importances_, feature_names), reverse=True)"
   ]
  },
  {
   "cell_type": "markdown",
   "metadata": {},
   "source": [
    "# Re-test for I vs. E"
   ]
  },
  {
   "cell_type": "code",
   "execution_count": 16,
   "metadata": {},
   "outputs": [
    {
     "name": "stderr",
     "output_type": "stream",
     "text": [
      "/Users/Jo/anaconda3/envs/PythonData/lib/python3.6/site-packages/sklearn/preprocessing/label.py:219: DataConversionWarning: A column-vector y was passed when a 1d array was expected. Please change the shape of y to (n_samples, ), for example using ravel().\n",
      "  y = column_or_1d(y, warn=True)\n",
      "/Users/Jo/anaconda3/envs/PythonData/lib/python3.6/site-packages/sklearn/preprocessing/label.py:252: DataConversionWarning: A column-vector y was passed when a 1d array was expected. Please change the shape of y to (n_samples, ), for example using ravel().\n",
      "  y = column_or_1d(y, warn=True)\n"
     ]
    },
    {
     "name": "stdout",
     "output_type": "stream",
     "text": [
      "Decision Tree Score: 0.6302443522360535\n",
      "Random Forest Score: 0.776855693868142\n"
     ]
    },
    {
     "data": {
      "text/plain": [
       "[(0.11169123207695626, 'sentiment score'),\n",
       " (0.11052345465134353, 'word_count_variance_per_comment'),\n",
       " (0.09742975772078465, 'noun_count'),\n",
       " (0.09480023052013938, 'interrobangs_per_comment'),\n",
       " (0.0936390442538288, 'verb_count'),\n",
       " (0.09211338127247663, 'determiner_count'),\n",
       " (0.09030824685606509, 'preposition_count'),\n",
       " (0.08914020381179091, 'adjective_count'),\n",
       " (0.08781239612681942, 'squared_total_words'),\n",
       " (0.08728822964746774, 'words_per_comment'),\n",
       " (0.045253823062327864, 'interjection_count')]"
      ]
     },
     "execution_count": 16,
     "metadata": {},
     "output_type": "execute_result"
    }
   ],
   "source": [
    "y = mbti_df[\"i_e\"].values.reshape(-1, 1)\n",
    "\n",
    "X_train, X_test, y_train, y_test = train_test_split(X, y, random_state=42)\n",
    "\n",
    "#  Scale your data\n",
    "X_scaler = StandardScaler().fit(X_train)\n",
    "X_train_scaled = X_scaler.transform(X_train)\n",
    "X_test_scaled = X_scaler.transform(X_test)\n",
    "\n",
    "\n",
    "label_encoder = LabelEncoder()\n",
    "label_encoder.fit(y_train)\n",
    "encoded_y_train = label_encoder.transform(y_train)\n",
    "encoded_y_test = label_encoder.transform(y_test)\n",
    "\n",
    "clf = tree.DecisionTreeClassifier()\n",
    "clf = clf.fit(X_train_scaled, encoded_y_train)\n",
    "tree_score = clf.score(X_test_scaled, encoded_y_test)\n",
    "print(f'Decision Tree Score: {tree_score}')\n",
    "\n",
    "rf = RandomForestClassifier(n_estimators=200)\n",
    "rf = rf.fit(X_train_scaled, encoded_y_train)\n",
    "forest_score = rf.score(X_test_scaled, encoded_y_test)\n",
    "importances = rf.feature_importances_\n",
    "print(f'Random Forest Score: {forest_score}')\n",
    "sorted(zip(rf.feature_importances_, feature_names), reverse=True)"
   ]
  },
  {
   "cell_type": "markdown",
   "metadata": {},
   "source": [
    "# Re-test for N vs. S"
   ]
  },
  {
   "cell_type": "code",
   "execution_count": 17,
   "metadata": {},
   "outputs": [
    {
     "name": "stderr",
     "output_type": "stream",
     "text": [
      "/Users/Jo/anaconda3/envs/PythonData/lib/python3.6/site-packages/sklearn/preprocessing/label.py:219: DataConversionWarning: A column-vector y was passed when a 1d array was expected. Please change the shape of y to (n_samples, ), for example using ravel().\n",
      "  y = column_or_1d(y, warn=True)\n",
      "/Users/Jo/anaconda3/envs/PythonData/lib/python3.6/site-packages/sklearn/preprocessing/label.py:252: DataConversionWarning: A column-vector y was passed when a 1d array was expected. Please change the shape of y to (n_samples, ), for example using ravel().\n",
      "  y = column_or_1d(y, warn=True)\n"
     ]
    },
    {
     "name": "stdout",
     "output_type": "stream",
     "text": [
      "Decision Tree Score: 0.7455048409405256\n",
      "Random Forest Score: 0.8570769940064545\n"
     ]
    },
    {
     "data": {
      "text/plain": [
       "[(0.11213054586852206, 'word_count_variance_per_comment'),\n",
       " (0.11096603599112717, 'sentiment score'),\n",
       " (0.10346424842050346, 'noun_count'),\n",
       " (0.09760004705202828, 'verb_count'),\n",
       " (0.09147953526044962, 'adjective_count'),\n",
       " (0.0907508775932041, 'preposition_count'),\n",
       " (0.0896882017596312, 'squared_total_words'),\n",
       " (0.08886212605265262, 'words_per_comment'),\n",
       " (0.08673509593100219, 'determiner_count'),\n",
       " (0.08116696837538476, 'interrobangs_per_comment'),\n",
       " (0.04715631769549455, 'interjection_count')]"
      ]
     },
     "execution_count": 17,
     "metadata": {},
     "output_type": "execute_result"
    }
   ],
   "source": [
    "y = mbti_df[\"n_s\"].values.reshape(-1, 1)\n",
    "\n",
    "X_train, X_test, y_train, y_test = train_test_split(X, y, random_state=42)\n",
    "\n",
    "#  Scale your data\n",
    "X_scaler = StandardScaler().fit(X_train)\n",
    "X_train_scaled = X_scaler.transform(X_train)\n",
    "X_test_scaled = X_scaler.transform(X_test)\n",
    "\n",
    "\n",
    "label_encoder = LabelEncoder()\n",
    "label_encoder.fit(y_train)\n",
    "encoded_y_train = label_encoder.transform(y_train)\n",
    "encoded_y_test = label_encoder.transform(y_test)\n",
    "\n",
    "clf = tree.DecisionTreeClassifier()\n",
    "clf = clf.fit(X_train_scaled, encoded_y_train)\n",
    "tree_score = clf.score(X_test_scaled, encoded_y_test)\n",
    "print(f'Decision Tree Score: {tree_score}')\n",
    "\n",
    "rf = RandomForestClassifier(n_estimators=200)\n",
    "rf = rf.fit(X_train_scaled, encoded_y_train)\n",
    "forest_score = rf.score(X_test_scaled, encoded_y_test)\n",
    "importances = rf.feature_importances_\n",
    "print(f'Random Forest Score: {forest_score}')\n",
    "sorted(zip(rf.feature_importances_, feature_names), reverse=True)"
   ]
  },
  {
   "cell_type": "markdown",
   "metadata": {},
   "source": [
    "# Re-test for F vs. T"
   ]
  },
  {
   "cell_type": "code",
   "execution_count": 18,
   "metadata": {},
   "outputs": [
    {
     "name": "stderr",
     "output_type": "stream",
     "text": [
      "/Users/Jo/anaconda3/envs/PythonData/lib/python3.6/site-packages/sklearn/preprocessing/label.py:219: DataConversionWarning: A column-vector y was passed when a 1d array was expected. Please change the shape of y to (n_samples, ), for example using ravel().\n",
      "  y = column_or_1d(y, warn=True)\n",
      "/Users/Jo/anaconda3/envs/PythonData/lib/python3.6/site-packages/sklearn/preprocessing/label.py:252: DataConversionWarning: A column-vector y was passed when a 1d array was expected. Please change the shape of y to (n_samples, ), for example using ravel().\n",
      "  y = column_or_1d(y, warn=True)\n"
     ]
    },
    {
     "name": "stdout",
     "output_type": "stream",
     "text": [
      "Decision Tree Score: 0.5325034578146611\n",
      "Random Forest Score: 0.5905947441217151\n"
     ]
    },
    {
     "data": {
      "text/plain": [
       "[(0.11479757299456629, 'word_count_variance_per_comment'),\n",
       " (0.10366051724643593, 'sentiment score'),\n",
       " (0.10067395327657092, 'interrobangs_per_comment'),\n",
       " (0.09519095777176512, 'verb_count'),\n",
       " (0.09355631454798433, 'determiner_count'),\n",
       " (0.09331067260153186, 'noun_count'),\n",
       " (0.09057679085607458, 'adjective_count'),\n",
       " (0.08749490641583854, 'squared_total_words'),\n",
       " (0.08695646332857945, 'preposition_count'),\n",
       " (0.08621697017658156, 'words_per_comment'),\n",
       " (0.04756488078407143, 'interjection_count')]"
      ]
     },
     "execution_count": 18,
     "metadata": {},
     "output_type": "execute_result"
    }
   ],
   "source": [
    "y = mbti_df[\"f_t\"].values.reshape(-1, 1)\n",
    "\n",
    "X_train, X_test, y_train, y_test = train_test_split(X, y, random_state=42)\n",
    "\n",
    "#  Scale your data\n",
    "X_scaler = StandardScaler().fit(X_train)\n",
    "X_train_scaled = X_scaler.transform(X_train)\n",
    "X_test_scaled = X_scaler.transform(X_test)\n",
    "\n",
    "\n",
    "label_encoder = LabelEncoder()\n",
    "label_encoder.fit(y_train)\n",
    "encoded_y_train = label_encoder.transform(y_train)\n",
    "encoded_y_test = label_encoder.transform(y_test)\n",
    "\n",
    "clf = tree.DecisionTreeClassifier()\n",
    "clf = clf.fit(X_train_scaled, encoded_y_train)\n",
    "tree_score = clf.score(X_test_scaled, encoded_y_test)\n",
    "print(f'Decision Tree Score: {tree_score}')\n",
    "\n",
    "rf = RandomForestClassifier(n_estimators=200)\n",
    "rf = rf.fit(X_train_scaled, encoded_y_train)\n",
    "forest_score = rf.score(X_test_scaled, encoded_y_test)\n",
    "importances = rf.feature_importances_\n",
    "print(f'Random Forest Score: {forest_score}')\n",
    "sorted(zip(rf.feature_importances_, feature_names), reverse=True)"
   ]
  },
  {
   "cell_type": "markdown",
   "metadata": {},
   "source": [
    "# Re-test for J vs. P"
   ]
  },
  {
   "cell_type": "code",
   "execution_count": 19,
   "metadata": {
    "scrolled": true
   },
   "outputs": [
    {
     "name": "stderr",
     "output_type": "stream",
     "text": [
      "/Users/Jo/anaconda3/envs/PythonData/lib/python3.6/site-packages/sklearn/preprocessing/label.py:219: DataConversionWarning: A column-vector y was passed when a 1d array was expected. Please change the shape of y to (n_samples, ), for example using ravel().\n",
      "  y = column_or_1d(y, warn=True)\n",
      "/Users/Jo/anaconda3/envs/PythonData/lib/python3.6/site-packages/sklearn/preprocessing/label.py:252: DataConversionWarning: A column-vector y was passed when a 1d array was expected. Please change the shape of y to (n_samples, ), for example using ravel().\n",
      "  y = column_or_1d(y, warn=True)\n"
     ]
    },
    {
     "name": "stdout",
     "output_type": "stream",
     "text": [
      "Decision Tree Score: 0.5297372060857538\n",
      "Random Forest Score: 0.5809128630705395\n"
     ]
    },
    {
     "data": {
      "text/plain": [
       "[(0.11381983653410903, 'sentiment score'),\n",
       " (0.10774173664741961, 'word_count_variance_per_comment'),\n",
       " (0.10045308623307404, 'noun_count'),\n",
       " (0.09568610332866295, 'verb_count'),\n",
       " (0.0924220481252821, 'preposition_count'),\n",
       " (0.09073102967027348, 'adjective_count'),\n",
       " (0.09036202787512844, 'determiner_count'),\n",
       " (0.08863635230462079, 'words_per_comment'),\n",
       " (0.087430930990095, 'interrobangs_per_comment'),\n",
       " (0.08611515742111546, 'squared_total_words'),\n",
       " (0.04660169087021912, 'interjection_count')]"
      ]
     },
     "execution_count": 19,
     "metadata": {},
     "output_type": "execute_result"
    }
   ],
   "source": [
    "y = mbti_df[\"j_p\"].values.reshape(-1, 1)\n",
    "\n",
    "X_train, X_test, y_train, y_test = train_test_split(X, y, random_state=42)\n",
    "\n",
    "#  Scale your data\n",
    "X_scaler = StandardScaler().fit(X_train)\n",
    "X_train_scaled = X_scaler.transform(X_train)\n",
    "X_test_scaled = X_scaler.transform(X_test)\n",
    "\n",
    "label_encoder = LabelEncoder()\n",
    "label_encoder.fit(y_train)\n",
    "encoded_y_train = label_encoder.transform(y_train)\n",
    "encoded_y_test = label_encoder.transform(y_test)\n",
    "\n",
    "clf = tree.DecisionTreeClassifier()\n",
    "clf = clf.fit(X_train_scaled, encoded_y_train)\n",
    "tree_score = clf.score(X_test_scaled, encoded_y_test)\n",
    "print(f'Decision Tree Score: {tree_score}')\n",
    "\n",
    "rf = RandomForestClassifier(n_estimators=200)\n",
    "rf = rf.fit(X_train_scaled, encoded_y_train)\n",
    "forest_score = rf.score(X_test_scaled, encoded_y_test)\n",
    "importances = rf.feature_importances_\n",
    "print(f'Random Forest Score: {forest_score}')\n",
    "sorted(zip(rf.feature_importances_, feature_names), reverse=True)"
   ]
  },
  {
   "cell_type": "code",
   "execution_count": null,
   "metadata": {},
   "outputs": [],
   "source": []
  }
 ],
 "metadata": {
  "kernelspec": {
   "display_name": "Python 3",
   "language": "python",
   "name": "python3"
  },
  "language_info": {
   "codemirror_mode": {
    "name": "ipython",
    "version": 3
   },
   "file_extension": ".py",
   "mimetype": "text/x-python",
   "name": "python",
   "nbconvert_exporter": "python",
   "pygments_lexer": "ipython3",
   "version": "3.6.9"
  }
 },
 "nbformat": 4,
 "nbformat_minor": 2
}
