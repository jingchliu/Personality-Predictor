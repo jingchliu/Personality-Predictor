{
 "cells": [
  {
   "cell_type": "code",
   "execution_count": 2,
   "metadata": {},
   "outputs": [
    {
     "name": "stdout",
     "output_type": "stream",
     "text": [
      "Requirement already satisfied: joblib in /Users/Jo/anaconda3/envs/PythonData/lib/python3.6/site-packages (0.14.0)\r\n"
     ]
    }
   ],
   "source": [
    "# install joblib. This will be used to save your model. \n",
    "# Restart your kernel after installing \n",
    "!pip install joblib"
   ]
  },
  {
   "cell_type": "code",
   "execution_count": 2,
   "metadata": {},
   "outputs": [],
   "source": [
    "import pandas as pd\n",
    "import joblib\n",
    "import numpy as np\n",
    "from sklearn.svm import SVC \n",
    "from sklearn.model_selection import train_test_split\n",
    "from sklearn.model_selection import GridSearchCV"
   ]
  },
  {
   "cell_type": "markdown",
   "metadata": {},
   "source": [
    "# Read the CSV and Perform Basic Data Cleaning"
   ]
  },
  {
   "cell_type": "code",
   "execution_count": 2,
   "metadata": {},
   "outputs": [
    {
     "data": {
      "text/html": [
       "<div>\n",
       "<style scoped>\n",
       "    .dataframe tbody tr th:only-of-type {\n",
       "        vertical-align: middle;\n",
       "    }\n",
       "\n",
       "    .dataframe tbody tr th {\n",
       "        vertical-align: top;\n",
       "    }\n",
       "\n",
       "    .dataframe thead th {\n",
       "        text-align: right;\n",
       "    }\n",
       "</style>\n",
       "<table border=\"1\" class=\"dataframe\">\n",
       "  <thead>\n",
       "    <tr style=\"text-align: right;\">\n",
       "      <th></th>\n",
       "      <th>type</th>\n",
       "      <th>posts</th>\n",
       "      <th>description</th>\n",
       "      <th>i_e</th>\n",
       "      <th>n_s</th>\n",
       "      <th>f_t</th>\n",
       "      <th>j_p</th>\n",
       "      <th>sentiment_score</th>\n",
       "      <th>words_per_comment</th>\n",
       "      <th>squared_total_words</th>\n",
       "      <th>...</th>\n",
       "      <th>adjectives</th>\n",
       "      <th>adjective_count</th>\n",
       "      <th>verbs</th>\n",
       "      <th>verb_count</th>\n",
       "      <th>determiners</th>\n",
       "      <th>determiner_count</th>\n",
       "      <th>interjections</th>\n",
       "      <th>interjection_count</th>\n",
       "      <th>prepositions</th>\n",
       "      <th>preposition_count</th>\n",
       "    </tr>\n",
       "  </thead>\n",
       "  <tbody>\n",
       "    <tr>\n",
       "      <th>0</th>\n",
       "      <td>INFJ</td>\n",
       "      <td>'http://www.youtube.com/watch?v=qsXHcwe3krw|||...</td>\n",
       "      <td>Introvert Intuition Feeling Judging</td>\n",
       "      <td>I</td>\n",
       "      <td>N</td>\n",
       "      <td>F</td>\n",
       "      <td>J</td>\n",
       "      <td>0.047100</td>\n",
       "      <td>11.12</td>\n",
       "      <td>22.24</td>\n",
       "      <td>...</td>\n",
       "      <td>['intj', 'life-changing', 'most', 'last', 'nex...</td>\n",
       "      <td>51</td>\n",
       "      <td>['top', 'has', 'been', 'posted', 'committing',...</td>\n",
       "      <td>90</td>\n",
       "      <td>['the', 'the', 'the', 'a', 'the', 'every', 'th...</td>\n",
       "      <td>52</td>\n",
       "      <td>[]</td>\n",
       "      <td>0</td>\n",
       "      <td>['in', 'On', 'for', 'of', 'on', 'before', 'in'...</td>\n",
       "      <td>78</td>\n",
       "    </tr>\n",
       "    <tr>\n",
       "      <th>1</th>\n",
       "      <td>ENTP</td>\n",
       "      <td>'I'm finding the lack of me in these posts ver...</td>\n",
       "      <td>Extrovert Intuition Thinking Perceiving</td>\n",
       "      <td>E</td>\n",
       "      <td>N</td>\n",
       "      <td>T</td>\n",
       "      <td>P</td>\n",
       "      <td>0.388976</td>\n",
       "      <td>23.40</td>\n",
       "      <td>46.80</td>\n",
       "      <td>...</td>\n",
       "      <td>['same', 'missionary', 'new', 'theory.Hello', ...</td>\n",
       "      <td>96</td>\n",
       "      <td>[\"'m\", 'finding', 'be', 'boring', \"'s\", 'are',...</td>\n",
       "      <td>257</td>\n",
       "      <td>['the', 'these', 'the', 'an', 'all', 'the', 't...</td>\n",
       "      <td>90</td>\n",
       "      <td>[]</td>\n",
       "      <td>0</td>\n",
       "      <td>['of', 'in', 'if', 'in', 'For', 'in', 'Than', ...</td>\n",
       "      <td>136</td>\n",
       "    </tr>\n",
       "    <tr>\n",
       "      <th>2</th>\n",
       "      <td>INTP</td>\n",
       "      <td>'Good one  _____   https://www.youtube.com/wat...</td>\n",
       "      <td>Introvert Intuition Thinking Perceiving</td>\n",
       "      <td>I</td>\n",
       "      <td>N</td>\n",
       "      <td>T</td>\n",
       "      <td>P</td>\n",
       "      <td>0.620244</td>\n",
       "      <td>16.72</td>\n",
       "      <td>33.44</td>\n",
       "      <td>...</td>\n",
       "      <td>['positive', 'best', 'amazing', 'more', 'So-ca...</td>\n",
       "      <td>82</td>\n",
       "      <td>['say', 'know', \"'s\", 'being', 'be', \"'s\", 'be...</td>\n",
       "      <td>166</td>\n",
       "      <td>['that', 'an', 'a', 'any', 'All', 'the', 'that...</td>\n",
       "      <td>52</td>\n",
       "      <td>['yes', 'No', 'Oh', 'Yessss', 'Oh']</td>\n",
       "      <td>5</td>\n",
       "      <td>['that', 'If', 'than', 'in', 'in', 'at', 'for'...</td>\n",
       "      <td>91</td>\n",
       "    </tr>\n",
       "    <tr>\n",
       "      <th>3</th>\n",
       "      <td>INTJ</td>\n",
       "      <td>'Dear INTP,   I enjoyed our conversation the o...</td>\n",
       "      <td>Introvert Intuition Thinking Judging</td>\n",
       "      <td>I</td>\n",
       "      <td>N</td>\n",
       "      <td>T</td>\n",
       "      <td>J</td>\n",
       "      <td>0.807546</td>\n",
       "      <td>21.28</td>\n",
       "      <td>42.56</td>\n",
       "      <td>...</td>\n",
       "      <td>[\"'Dear\", 'other', 'social', 'arbitrary', 'oth...</td>\n",
       "      <td>93</td>\n",
       "      <td>['enjoyed', 'gabbing', 'being', 'created', 'hu...</td>\n",
       "      <td>233</td>\n",
       "      <td>['the', 'the', 'the', 'the', 'every', 'no', 'A...</td>\n",
       "      <td>94</td>\n",
       "      <td>[]</td>\n",
       "      <td>0</td>\n",
       "      <td>['about', 'of', 'of', 'in', 'on', 'like', 'in'...</td>\n",
       "      <td>124</td>\n",
       "    </tr>\n",
       "    <tr>\n",
       "      <th>4</th>\n",
       "      <td>ENTJ</td>\n",
       "      <td>'You're fired.|||That's another silly misconce...</td>\n",
       "      <td>Extrovert Intuition Thinking Judging</td>\n",
       "      <td>E</td>\n",
       "      <td>N</td>\n",
       "      <td>T</td>\n",
       "      <td>J</td>\n",
       "      <td>0.861824</td>\n",
       "      <td>19.34</td>\n",
       "      <td>38.68</td>\n",
       "      <td>...</td>\n",
       "      <td>['silly', 'super-duper-long-ass', 'permanent',...</td>\n",
       "      <td>87</td>\n",
       "      <td>[\"'re\", \"'s\", 'approaching', 'is', 'is', 'goin...</td>\n",
       "      <td>229</td>\n",
       "      <td>['another', 'the', 'a', 'the', 'that', 'that',...</td>\n",
       "      <td>84</td>\n",
       "      <td>['Oh', 'Yes']</td>\n",
       "      <td>2</td>\n",
       "      <td>['That', 'with', 'on', 'on', 'about', 'If', 'f...</td>\n",
       "      <td>84</td>\n",
       "    </tr>\n",
       "  </tbody>\n",
       "</table>\n",
       "<p>5 rows × 25 columns</p>\n",
       "</div>"
      ],
      "text/plain": [
       "   type                                              posts  \\\n",
       "0  INFJ  'http://www.youtube.com/watch?v=qsXHcwe3krw|||...   \n",
       "1  ENTP  'I'm finding the lack of me in these posts ver...   \n",
       "2  INTP  'Good one  _____   https://www.youtube.com/wat...   \n",
       "3  INTJ  'Dear INTP,   I enjoyed our conversation the o...   \n",
       "4  ENTJ  'You're fired.|||That's another silly misconce...   \n",
       "\n",
       "                               description i_e n_s f_t j_p  sentiment_score  \\\n",
       "0      Introvert Intuition Feeling Judging   I   N   F   J         0.047100   \n",
       "1  Extrovert Intuition Thinking Perceiving   E   N   T   P         0.388976   \n",
       "2  Introvert Intuition Thinking Perceiving   I   N   T   P         0.620244   \n",
       "3     Introvert Intuition Thinking Judging   I   N   T   J         0.807546   \n",
       "4     Extrovert Intuition Thinking Judging   E   N   T   J         0.861824   \n",
       "\n",
       "   words_per_comment  squared_total_words  ...  \\\n",
       "0              11.12                22.24  ...   \n",
       "1              23.40                46.80  ...   \n",
       "2              16.72                33.44  ...   \n",
       "3              21.28                42.56  ...   \n",
       "4              19.34                38.68  ...   \n",
       "\n",
       "                                          adjectives  adjective_count  \\\n",
       "0  ['intj', 'life-changing', 'most', 'last', 'nex...               51   \n",
       "1  ['same', 'missionary', 'new', 'theory.Hello', ...               96   \n",
       "2  ['positive', 'best', 'amazing', 'more', 'So-ca...               82   \n",
       "3  [\"'Dear\", 'other', 'social', 'arbitrary', 'oth...               93   \n",
       "4  ['silly', 'super-duper-long-ass', 'permanent',...               87   \n",
       "\n",
       "                                               verbs verb_count  \\\n",
       "0  ['top', 'has', 'been', 'posted', 'committing',...         90   \n",
       "1  [\"'m\", 'finding', 'be', 'boring', \"'s\", 'are',...        257   \n",
       "2  ['say', 'know', \"'s\", 'being', 'be', \"'s\", 'be...        166   \n",
       "3  ['enjoyed', 'gabbing', 'being', 'created', 'hu...        233   \n",
       "4  [\"'re\", \"'s\", 'approaching', 'is', 'is', 'goin...        229   \n",
       "\n",
       "                                         determiners determiner_count  \\\n",
       "0  ['the', 'the', 'the', 'a', 'the', 'every', 'th...               52   \n",
       "1  ['the', 'these', 'the', 'an', 'all', 'the', 't...               90   \n",
       "2  ['that', 'an', 'a', 'any', 'All', 'the', 'that...               52   \n",
       "3  ['the', 'the', 'the', 'the', 'every', 'no', 'A...               94   \n",
       "4  ['another', 'the', 'a', 'the', 'that', 'that',...               84   \n",
       "\n",
       "                         interjections interjection_count  \\\n",
       "0                                   []                  0   \n",
       "1                                   []                  0   \n",
       "2  ['yes', 'No', 'Oh', 'Yessss', 'Oh']                  5   \n",
       "3                                   []                  0   \n",
       "4                        ['Oh', 'Yes']                  2   \n",
       "\n",
       "                                        prepositions preposition_count  \n",
       "0  ['in', 'On', 'for', 'of', 'on', 'before', 'in'...                78  \n",
       "1  ['of', 'in', 'if', 'in', 'For', 'in', 'Than', ...               136  \n",
       "2  ['that', 'If', 'than', 'in', 'in', 'at', 'for'...                91  \n",
       "3  ['about', 'of', 'of', 'in', 'on', 'like', 'in'...               124  \n",
       "4  ['That', 'with', 'on', 'on', 'about', 'If', 'f...                84  \n",
       "\n",
       "[5 rows x 25 columns]"
      ]
     },
     "execution_count": 2,
     "metadata": {},
     "output_type": "execute_result"
    }
   ],
   "source": [
    "mbti_df = pd.read_csv(\"Resources/mbti_final.csv\")\n",
    "mbti_df.head()"
   ]
  },
  {
   "cell_type": "markdown",
   "metadata": {},
   "source": [
    "# Select features (columns)"
   ]
  },
  {
   "cell_type": "code",
   "execution_count": 3,
   "metadata": {},
   "outputs": [
    {
     "data": {
      "text/plain": [
       "Index(['type', 'posts', 'description', 'i_e', 'n_s', 'f_t', 'j_p',\n",
       "       'sentiment_score', 'words_per_comment', 'squared_total_words',\n",
       "       'word_count_variance_per_comment', 'interrobangs_per_comment',\n",
       "       'Tagged Posts PosTag', 'nouns', 'noun_count', 'adjectives',\n",
       "       'adjective_count', 'verbs', 'verb_count', 'determiners',\n",
       "       'determiner_count', 'interjections', 'interjection_count',\n",
       "       'prepositions', 'preposition_count'],\n",
       "      dtype='object')"
      ]
     },
     "execution_count": 3,
     "metadata": {},
     "output_type": "execute_result"
    }
   ],
   "source": [
    "mbti_df.columns"
   ]
  },
  {
   "cell_type": "code",
   "execution_count": 4,
   "metadata": {},
   "outputs": [],
   "source": [
    "# Set features. This will also be used as your x values.\n",
    "selected_features = mbti_df[['sentiment_score', 'words_per_comment', 'squared_total_words',\n",
    "       'word_count_variance_per_comment', 'interrobangs_per_comment','noun_count', \n",
    "       'adjective_count', 'verb_count', \n",
    "       'determiner_count', 'interjection_count','preposition_count']]"
   ]
  },
  {
   "cell_type": "markdown",
   "metadata": {},
   "source": [
    "# Create a Train Test Split\n",
    "\n",
    "Use `koi_disposition` for the y values"
   ]
  },
  {
   "cell_type": "code",
   "execution_count": 5,
   "metadata": {},
   "outputs": [],
   "source": [
    "target = mbti_df[\"type\"]\n",
    "target_names = [\"INFJ\",\"INFP\",\"INTJ\",'INTP',\"ISFJ\",\"ISFP\",\"ISTJ\",'ISTP',\"ENFJ\",\"ENFP\",\"ENTJ\",'ENTP',\"ESFJ\",\"ESFP\",\"ESTJ\",'ESTP']"
   ]
  },
  {
   "cell_type": "code",
   "execution_count": 6,
   "metadata": {},
   "outputs": [],
   "source": [
    "X_train, X_test, y_train, y_test = train_test_split(selected_features, target, random_state=42)"
   ]
  },
  {
   "cell_type": "code",
   "execution_count": 7,
   "metadata": {},
   "outputs": [
    {
     "data": {
      "text/html": [
       "<div>\n",
       "<style scoped>\n",
       "    .dataframe tbody tr th:only-of-type {\n",
       "        vertical-align: middle;\n",
       "    }\n",
       "\n",
       "    .dataframe tbody tr th {\n",
       "        vertical-align: top;\n",
       "    }\n",
       "\n",
       "    .dataframe thead th {\n",
       "        text-align: right;\n",
       "    }\n",
       "</style>\n",
       "<table border=\"1\" class=\"dataframe\">\n",
       "  <thead>\n",
       "    <tr style=\"text-align: right;\">\n",
       "      <th></th>\n",
       "      <th>sentiment_score</th>\n",
       "      <th>words_per_comment</th>\n",
       "      <th>squared_total_words</th>\n",
       "      <th>word_count_variance_per_comment</th>\n",
       "      <th>interrobangs_per_comment</th>\n",
       "      <th>noun_count</th>\n",
       "      <th>adjective_count</th>\n",
       "      <th>verb_count</th>\n",
       "      <th>determiner_count</th>\n",
       "      <th>interjection_count</th>\n",
       "      <th>preposition_count</th>\n",
       "    </tr>\n",
       "  </thead>\n",
       "  <tbody>\n",
       "    <tr>\n",
       "      <th>2706</th>\n",
       "      <td>571.406128</td>\n",
       "      <td>28.22</td>\n",
       "      <td>56.44</td>\n",
       "      <td>127.840000</td>\n",
       "      <td>1.14</td>\n",
       "      <td>310</td>\n",
       "      <td>123</td>\n",
       "      <td>305</td>\n",
       "      <td>99</td>\n",
       "      <td>0</td>\n",
       "      <td>124</td>\n",
       "    </tr>\n",
       "    <tr>\n",
       "      <th>2521</th>\n",
       "      <td>534.330686</td>\n",
       "      <td>20.92</td>\n",
       "      <td>41.84</td>\n",
       "      <td>186.370000</td>\n",
       "      <td>0.24</td>\n",
       "      <td>296</td>\n",
       "      <td>80</td>\n",
       "      <td>202</td>\n",
       "      <td>81</td>\n",
       "      <td>0</td>\n",
       "      <td>115</td>\n",
       "    </tr>\n",
       "    <tr>\n",
       "      <th>4192</th>\n",
       "      <td>891.721612</td>\n",
       "      <td>25.90</td>\n",
       "      <td>51.80</td>\n",
       "      <td>113.785600</td>\n",
       "      <td>0.74</td>\n",
       "      <td>213</td>\n",
       "      <td>113</td>\n",
       "      <td>318</td>\n",
       "      <td>68</td>\n",
       "      <td>1</td>\n",
       "      <td>132</td>\n",
       "    </tr>\n",
       "    <tr>\n",
       "      <th>6296</th>\n",
       "      <td>1363.673841</td>\n",
       "      <td>30.04</td>\n",
       "      <td>60.08</td>\n",
       "      <td>110.109954</td>\n",
       "      <td>0.16</td>\n",
       "      <td>291</td>\n",
       "      <td>92</td>\n",
       "      <td>348</td>\n",
       "      <td>107</td>\n",
       "      <td>3</td>\n",
       "      <td>167</td>\n",
       "    </tr>\n",
       "    <tr>\n",
       "      <th>3399</th>\n",
       "      <td>717.557672</td>\n",
       "      <td>28.98</td>\n",
       "      <td>57.96</td>\n",
       "      <td>131.278400</td>\n",
       "      <td>0.60</td>\n",
       "      <td>267</td>\n",
       "      <td>100</td>\n",
       "      <td>334</td>\n",
       "      <td>126</td>\n",
       "      <td>7</td>\n",
       "      <td>152</td>\n",
       "    </tr>\n",
       "  </tbody>\n",
       "</table>\n",
       "</div>"
      ],
      "text/plain": [
       "      sentiment_score  words_per_comment  squared_total_words  \\\n",
       "2706       571.406128              28.22                56.44   \n",
       "2521       534.330686              20.92                41.84   \n",
       "4192       891.721612              25.90                51.80   \n",
       "6296      1363.673841              30.04                60.08   \n",
       "3399       717.557672              28.98                57.96   \n",
       "\n",
       "      word_count_variance_per_comment  interrobangs_per_comment  noun_count  \\\n",
       "2706                       127.840000                      1.14         310   \n",
       "2521                       186.370000                      0.24         296   \n",
       "4192                       113.785600                      0.74         213   \n",
       "6296                       110.109954                      0.16         291   \n",
       "3399                       131.278400                      0.60         267   \n",
       "\n",
       "      adjective_count  verb_count  determiner_count  interjection_count  \\\n",
       "2706              123         305                99                   0   \n",
       "2521               80         202                81                   0   \n",
       "4192              113         318                68                   1   \n",
       "6296               92         348               107                   3   \n",
       "3399              100         334               126                   7   \n",
       "\n",
       "      preposition_count  \n",
       "2706                124  \n",
       "2521                115  \n",
       "4192                132  \n",
       "6296                167  \n",
       "3399                152  "
      ]
     },
     "execution_count": 7,
     "metadata": {},
     "output_type": "execute_result"
    }
   ],
   "source": [
    "X_train.head()"
   ]
  },
  {
   "cell_type": "markdown",
   "metadata": {},
   "source": [
    "# Pre-processing\n",
    "\n",
    "Scale the data using the MinMaxScaler and perform some feature selection"
   ]
  },
  {
   "cell_type": "code",
   "execution_count": 8,
   "metadata": {},
   "outputs": [],
   "source": [
    "# Scale your data\n",
    "from sklearn.preprocessing import StandardScaler\n",
    "\n",
    "X_scaler = StandardScaler().fit(X_train)\n",
    "X_train_scaled = X_scaler.transform(X_train)\n",
    "X_test_scaled = X_scaler.transform(X_test)"
   ]
  },
  {
   "cell_type": "code",
   "execution_count": 9,
   "metadata": {},
   "outputs": [],
   "source": [
    "from sklearn.preprocessing import LabelEncoder, MinMaxScaler\n",
    "label_encoder = LabelEncoder()\n",
    "label_encoder.fit(y_train)\n",
    "encoded_y_train = label_encoder.transform(y_train)\n",
    "encoded_y_test = label_encoder.transform(y_test)"
   ]
  },
  {
   "cell_type": "markdown",
   "metadata": {},
   "source": [
    "# Train the Model\n",
    "\n"
   ]
  },
  {
   "cell_type": "code",
   "execution_count": 10,
   "metadata": {},
   "outputs": [
    {
     "name": "stdout",
     "output_type": "stream",
     "text": [
      "Training Data Score: 0.2239471257300953\n",
      "Testing Data Score: 0.23236514522821577\n"
     ]
    }
   ],
   "source": [
    "model = SVC(kernel='linear')\n",
    "model.fit(X_train_scaled, encoded_y_train)\n",
    "\n",
    "print(f\"Training Data Score: {model.score(X_train_scaled, encoded_y_train)}\")\n",
    "print(f\"Testing Data Score: {model.score(X_test_scaled, encoded_y_test)}\")"
   ]
  },
  {
   "cell_type": "code",
   "execution_count": 11,
   "metadata": {},
   "outputs": [
    {
     "name": "stdout",
     "output_type": "stream",
     "text": [
      "              precision    recall  f1-score   support\n",
      "\n",
      "        INFJ       0.00      0.00      0.00        49\n",
      "        INFP       0.00      0.00      0.00       160\n",
      "        INTJ       0.00      0.00      0.00        51\n",
      "        INTP       0.00      0.00      0.00       165\n",
      "        ISFJ       0.00      0.00      0.00         8\n",
      "        ISFP       0.00      0.00      0.00         8\n",
      "        ISTJ       0.00      0.00      0.00        12\n",
      "        ISTP       0.00      0.00      0.00        20\n",
      "        ENFJ       0.09      0.00      0.01       361\n",
      "        ENFP       0.24      0.89      0.37       475\n",
      "        ENTJ       0.00      0.00      0.00       251\n",
      "        ENTP       0.22      0.22      0.22       350\n",
      "        ESFJ       0.00      0.00      0.00        54\n",
      "        ESFP       0.00      0.00      0.00        64\n",
      "        ESTJ       0.00      0.00      0.00        56\n",
      "        ESTP       0.00      0.00      0.00        85\n",
      "\n",
      "    accuracy                           0.23      2169\n",
      "   macro avg       0.03      0.07      0.04      2169\n",
      "weighted avg       0.10      0.23      0.12      2169\n",
      "\n"
     ]
    },
    {
     "name": "stderr",
     "output_type": "stream",
     "text": [
      "/Users/Jo/anaconda3/envs/PythonData/lib/python3.6/site-packages/sklearn/metrics/classification.py:1437: UndefinedMetricWarning: Precision and F-score are ill-defined and being set to 0.0 in labels with no predicted samples.\n",
      "  'precision', 'predicted', average, warn_for)\n"
     ]
    }
   ],
   "source": [
    "from sklearn.metrics import classification_report\n",
    "predictions = model.predict(X_test_scaled)\n",
    "print(classification_report(encoded_y_test, predictions,\n",
    "                            target_names=target_names))"
   ]
  },
  {
   "cell_type": "markdown",
   "metadata": {},
   "source": [
    "# Re-test for I vs. E"
   ]
  },
  {
   "cell_type": "code",
   "execution_count": 12,
   "metadata": {},
   "outputs": [
    {
     "name": "stdout",
     "output_type": "stream",
     "text": [
      "Training Data I_E Score: 0.7654472794343683\n",
      "Testing Data I_E Score: 0.7819271553711388\n",
      "              precision    recall  f1-score   support\n",
      "\n",
      "   Introvert       0.00      0.00      0.00       473\n",
      "   Extrovert       0.78      1.00      0.88      1696\n",
      "\n",
      "    accuracy                           0.78      2169\n",
      "   macro avg       0.39      0.50      0.44      2169\n",
      "weighted avg       0.61      0.78      0.69      2169\n",
      "\n"
     ]
    },
    {
     "name": "stderr",
     "output_type": "stream",
     "text": [
      "/Users/Jo/anaconda3/envs/PythonData/lib/python3.6/site-packages/sklearn/metrics/classification.py:1437: UndefinedMetricWarning: Precision and F-score are ill-defined and being set to 0.0 in labels with no predicted samples.\n",
      "  'precision', 'predicted', average, warn_for)\n"
     ]
    }
   ],
   "source": [
    "target1 = mbti_df[\"i_e\"]\n",
    "target_names1 = [\"Introvert\",\"Extrovert\"]\n",
    "\n",
    "X_train, X_test, y_train, y_test = train_test_split(selected_features, target1, random_state=42)\n",
    "\n",
    "X_scaler = StandardScaler().fit(X_train)\n",
    "X_train_scaled1 = X_scaler.transform(X_train)\n",
    "X_test_scaled1 = X_scaler.transform(X_test)\n",
    "\n",
    "label_encoder = LabelEncoder()\n",
    "label_encoder.fit(y_train)\n",
    "encoded_y_train1 = label_encoder.transform(y_train)\n",
    "encoded_y_test1 = label_encoder.transform(y_test)\n",
    "\n",
    "model1 = SVC(kernel='linear')\n",
    "model1.fit(X_train_scaled1, encoded_y_train1)\n",
    "\n",
    "print(f\"Training Data I_E Score: {model1.score(X_train_scaled1, encoded_y_train1)}\")\n",
    "print(f\"Testing Data I_E Score: {model1.score(X_test_scaled1, encoded_y_test1)}\")\n",
    "\n",
    "predictions1 = model1.predict(X_test_scaled1)\n",
    "print(classification_report(encoded_y_test1, predictions1,\n",
    "                            target_names=target_names1))"
   ]
  },
  {
   "cell_type": "markdown",
   "metadata": {},
   "source": [
    "# Hypertune"
   ]
  },
  {
   "cell_type": "code",
   "execution_count": 20,
   "metadata": {},
   "outputs": [
    {
     "name": "stderr",
     "output_type": "stream",
     "text": [
      "/Users/Jo/anaconda3/envs/PythonData/lib/python3.6/site-packages/sklearn/model_selection/_split.py:1978: FutureWarning: The default value of cv will change from 3 to 5 in version 0.22. Specify it explicitly to silence this warning.\n",
      "  warnings.warn(CV_WARNING, FutureWarning)\n",
      "[Parallel(n_jobs=1)]: Using backend SequentialBackend with 1 concurrent workers.\n"
     ]
    },
    {
     "name": "stdout",
     "output_type": "stream",
     "text": [
      "Fitting 3 folds for each of 27 candidates, totalling 81 fits\n",
      "[CV] C=1, gamma=0.0001, kernel=linear ................................\n",
      "[CV] .... C=1, gamma=0.0001, kernel=linear, score=0.765, total=   0.2s\n",
      "[CV] C=1, gamma=0.0001, kernel=linear ................................\n"
     ]
    },
    {
     "name": "stderr",
     "output_type": "stream",
     "text": [
      "[Parallel(n_jobs=1)]: Done   1 out of   1 | elapsed:    0.2s remaining:    0.0s\n"
     ]
    },
    {
     "name": "stdout",
     "output_type": "stream",
     "text": [
      "[CV] .... C=1, gamma=0.0001, kernel=linear, score=0.765, total=   0.2s\n",
      "[CV] C=1, gamma=0.0001, kernel=linear ................................\n"
     ]
    },
    {
     "name": "stderr",
     "output_type": "stream",
     "text": [
      "[Parallel(n_jobs=1)]: Done   2 out of   2 | elapsed:    0.4s remaining:    0.0s\n"
     ]
    },
    {
     "name": "stdout",
     "output_type": "stream",
     "text": [
      "[CV] .... C=1, gamma=0.0001, kernel=linear, score=0.766, total=   0.2s\n",
      "[CV] C=1, gamma=0.0001, kernel=rbf ...................................\n",
      "[CV] ....... C=1, gamma=0.0001, kernel=rbf, score=0.765, total=   0.4s\n",
      "[CV] C=1, gamma=0.0001, kernel=rbf ...................................\n",
      "[CV] ....... C=1, gamma=0.0001, kernel=rbf, score=0.765, total=   0.3s\n",
      "[CV] C=1, gamma=0.0001, kernel=rbf ...................................\n",
      "[CV] ....... C=1, gamma=0.0001, kernel=rbf, score=0.766, total=   0.3s\n",
      "[CV] C=1, gamma=0.0001, kernel=poly ..................................\n",
      "[CV] ...... C=1, gamma=0.0001, kernel=poly, score=0.765, total=   0.2s\n",
      "[CV] C=1, gamma=0.0001, kernel=poly ..................................\n",
      "[CV] ...... C=1, gamma=0.0001, kernel=poly, score=0.765, total=   0.2s\n",
      "[CV] C=1, gamma=0.0001, kernel=poly ..................................\n",
      "[CV] ...... C=1, gamma=0.0001, kernel=poly, score=0.766, total=   0.2s\n",
      "[CV] C=1, gamma=0.001, kernel=linear .................................\n",
      "[CV] ..... C=1, gamma=0.001, kernel=linear, score=0.765, total=   0.2s\n",
      "[CV] C=1, gamma=0.001, kernel=linear .................................\n",
      "[CV] ..... C=1, gamma=0.001, kernel=linear, score=0.765, total=   0.2s\n",
      "[CV] C=1, gamma=0.001, kernel=linear .................................\n",
      "[CV] ..... C=1, gamma=0.001, kernel=linear, score=0.766, total=   0.2s\n",
      "[CV] C=1, gamma=0.001, kernel=rbf ....................................\n",
      "[CV] ........ C=1, gamma=0.001, kernel=rbf, score=0.765, total=   0.4s\n",
      "[CV] C=1, gamma=0.001, kernel=rbf ....................................\n",
      "[CV] ........ C=1, gamma=0.001, kernel=rbf, score=0.765, total=   0.4s\n",
      "[CV] C=1, gamma=0.001, kernel=rbf ....................................\n",
      "[CV] ........ C=1, gamma=0.001, kernel=rbf, score=0.766, total=   0.4s\n",
      "[CV] C=1, gamma=0.001, kernel=poly ...................................\n",
      "[CV] ....... C=1, gamma=0.001, kernel=poly, score=0.765, total=   0.2s\n",
      "[CV] C=1, gamma=0.001, kernel=poly ...................................\n",
      "[CV] ....... C=1, gamma=0.001, kernel=poly, score=0.765, total=   0.2s\n",
      "[CV] C=1, gamma=0.001, kernel=poly ...................................\n",
      "[CV] ....... C=1, gamma=0.001, kernel=poly, score=0.766, total=   0.2s\n",
      "[CV] C=1, gamma=0.01, kernel=linear ..................................\n",
      "[CV] ...... C=1, gamma=0.01, kernel=linear, score=0.765, total=   0.2s\n",
      "[CV] C=1, gamma=0.01, kernel=linear ..................................\n",
      "[CV] ...... C=1, gamma=0.01, kernel=linear, score=0.765, total=   0.2s\n",
      "[CV] C=1, gamma=0.01, kernel=linear ..................................\n",
      "[CV] ...... C=1, gamma=0.01, kernel=linear, score=0.766, total=   0.2s\n",
      "[CV] C=1, gamma=0.01, kernel=rbf .....................................\n",
      "[CV] ......... C=1, gamma=0.01, kernel=rbf, score=0.765, total=   0.9s\n",
      "[CV] C=1, gamma=0.01, kernel=rbf .....................................\n",
      "[CV] ......... C=1, gamma=0.01, kernel=rbf, score=0.765, total=   0.8s\n",
      "[CV] C=1, gamma=0.01, kernel=rbf .....................................\n",
      "[CV] ......... C=1, gamma=0.01, kernel=rbf, score=0.766, total=   0.8s\n",
      "[CV] C=1, gamma=0.01, kernel=poly ....................................\n",
      "[CV] ........ C=1, gamma=0.01, kernel=poly, score=0.765, total=   0.4s\n",
      "[CV] C=1, gamma=0.01, kernel=poly ....................................\n",
      "[CV] ........ C=1, gamma=0.01, kernel=poly, score=0.765, total=   0.4s\n",
      "[CV] C=1, gamma=0.01, kernel=poly ....................................\n",
      "[CV] ........ C=1, gamma=0.01, kernel=poly, score=0.765, total=   0.4s\n",
      "[CV] C=5, gamma=0.0001, kernel=linear ................................\n",
      "[CV] .... C=5, gamma=0.0001, kernel=linear, score=0.765, total=   0.4s\n",
      "[CV] C=5, gamma=0.0001, kernel=linear ................................\n",
      "[CV] .... C=5, gamma=0.0001, kernel=linear, score=0.765, total=   0.4s\n",
      "[CV] C=5, gamma=0.0001, kernel=linear ................................\n",
      "[CV] .... C=5, gamma=0.0001, kernel=linear, score=0.766, total=   0.5s\n",
      "[CV] C=5, gamma=0.0001, kernel=rbf ...................................\n",
      "[CV] ....... C=5, gamma=0.0001, kernel=rbf, score=0.765, total=   0.4s\n",
      "[CV] C=5, gamma=0.0001, kernel=rbf ...................................\n",
      "[CV] ....... C=5, gamma=0.0001, kernel=rbf, score=0.765, total=   0.4s\n",
      "[CV] C=5, gamma=0.0001, kernel=rbf ...................................\n",
      "[CV] ....... C=5, gamma=0.0001, kernel=rbf, score=0.766, total=   0.4s\n",
      "[CV] C=5, gamma=0.0001, kernel=poly ..................................\n",
      "[CV] ...... C=5, gamma=0.0001, kernel=poly, score=0.765, total=   0.2s\n",
      "[CV] C=5, gamma=0.0001, kernel=poly ..................................\n",
      "[CV] ...... C=5, gamma=0.0001, kernel=poly, score=0.765, total=   0.2s\n",
      "[CV] C=5, gamma=0.0001, kernel=poly ..................................\n",
      "[CV] ...... C=5, gamma=0.0001, kernel=poly, score=0.766, total=   0.2s\n",
      "[CV] C=5, gamma=0.001, kernel=linear .................................\n",
      "[CV] ..... C=5, gamma=0.001, kernel=linear, score=0.765, total=   0.4s\n",
      "[CV] C=5, gamma=0.001, kernel=linear .................................\n",
      "[CV] ..... C=5, gamma=0.001, kernel=linear, score=0.765, total=   0.4s\n",
      "[CV] C=5, gamma=0.001, kernel=linear .................................\n",
      "[CV] ..... C=5, gamma=0.001, kernel=linear, score=0.766, total=   0.5s\n",
      "[CV] C=5, gamma=0.001, kernel=rbf ....................................\n",
      "[CV] ........ C=5, gamma=0.001, kernel=rbf, score=0.765, total=   0.5s\n",
      "[CV] C=5, gamma=0.001, kernel=rbf ....................................\n",
      "[CV] ........ C=5, gamma=0.001, kernel=rbf, score=0.765, total=   0.5s\n",
      "[CV] C=5, gamma=0.001, kernel=rbf ....................................\n",
      "[CV] ........ C=5, gamma=0.001, kernel=rbf, score=0.766, total=   0.6s\n",
      "[CV] C=5, gamma=0.001, kernel=poly ...................................\n",
      "[CV] ....... C=5, gamma=0.001, kernel=poly, score=0.765, total=   0.3s\n",
      "[CV] C=5, gamma=0.001, kernel=poly ...................................\n",
      "[CV] ....... C=5, gamma=0.001, kernel=poly, score=0.765, total=   0.2s\n",
      "[CV] C=5, gamma=0.001, kernel=poly ...................................\n",
      "[CV] ....... C=5, gamma=0.001, kernel=poly, score=0.766, total=   0.3s\n",
      "[CV] C=5, gamma=0.01, kernel=linear ..................................\n",
      "[CV] ...... C=5, gamma=0.01, kernel=linear, score=0.765, total=   0.4s\n",
      "[CV] C=5, gamma=0.01, kernel=linear ..................................\n",
      "[CV] ...... C=5, gamma=0.01, kernel=linear, score=0.765, total=   0.4s\n",
      "[CV] C=5, gamma=0.01, kernel=linear ..................................\n",
      "[CV] ...... C=5, gamma=0.01, kernel=linear, score=0.766, total=   0.4s\n",
      "[CV] C=5, gamma=0.01, kernel=rbf .....................................\n",
      "[CV] ......... C=5, gamma=0.01, kernel=rbf, score=0.765, total=   1.7s\n",
      "[CV] C=5, gamma=0.01, kernel=rbf .....................................\n",
      "[CV] ......... C=5, gamma=0.01, kernel=rbf, score=0.765, total=   2.2s\n",
      "[CV] C=5, gamma=0.01, kernel=rbf .....................................\n",
      "[CV] ......... C=5, gamma=0.01, kernel=rbf, score=0.766, total=   2.1s\n",
      "[CV] C=5, gamma=0.01, kernel=poly ....................................\n",
      "[CV] ........ C=5, gamma=0.01, kernel=poly, score=0.765, total=   0.5s\n",
      "[CV] C=5, gamma=0.01, kernel=poly ....................................\n",
      "[CV] ........ C=5, gamma=0.01, kernel=poly, score=0.765, total=   0.6s\n",
      "[CV] C=5, gamma=0.01, kernel=poly ....................................\n",
      "[CV] ........ C=5, gamma=0.01, kernel=poly, score=0.765, total=   0.6s\n",
      "[CV] C=10, gamma=0.0001, kernel=linear ...............................\n",
      "[CV] ... C=10, gamma=0.0001, kernel=linear, score=0.765, total=   0.7s\n",
      "[CV] C=10, gamma=0.0001, kernel=linear ...............................\n",
      "[CV] ... C=10, gamma=0.0001, kernel=linear, score=0.765, total=   0.5s\n",
      "[CV] C=10, gamma=0.0001, kernel=linear ...............................\n",
      "[CV] ... C=10, gamma=0.0001, kernel=linear, score=0.766, total=   0.5s\n",
      "[CV] C=10, gamma=0.0001, kernel=rbf ..................................\n",
      "[CV] ...... C=10, gamma=0.0001, kernel=rbf, score=0.765, total=   0.4s\n",
      "[CV] C=10, gamma=0.0001, kernel=rbf ..................................\n",
      "[CV] ...... C=10, gamma=0.0001, kernel=rbf, score=0.765, total=   0.4s\n",
      "[CV] C=10, gamma=0.0001, kernel=rbf ..................................\n",
      "[CV] ...... C=10, gamma=0.0001, kernel=rbf, score=0.766, total=   0.4s\n",
      "[CV] C=10, gamma=0.0001, kernel=poly .................................\n"
     ]
    },
    {
     "name": "stdout",
     "output_type": "stream",
     "text": [
      "[CV] ..... C=10, gamma=0.0001, kernel=poly, score=0.765, total=   0.2s\n",
      "[CV] C=10, gamma=0.0001, kernel=poly .................................\n",
      "[CV] ..... C=10, gamma=0.0001, kernel=poly, score=0.765, total=   0.2s\n",
      "[CV] C=10, gamma=0.0001, kernel=poly .................................\n",
      "[CV] ..... C=10, gamma=0.0001, kernel=poly, score=0.766, total=   0.2s\n",
      "[CV] C=10, gamma=0.001, kernel=linear ................................\n",
      "[CV] .... C=10, gamma=0.001, kernel=linear, score=0.765, total=   0.6s\n",
      "[CV] C=10, gamma=0.001, kernel=linear ................................\n",
      "[CV] .... C=10, gamma=0.001, kernel=linear, score=0.765, total=   0.6s\n",
      "[CV] C=10, gamma=0.001, kernel=linear ................................\n",
      "[CV] .... C=10, gamma=0.001, kernel=linear, score=0.766, total=   0.6s\n",
      "[CV] C=10, gamma=0.001, kernel=rbf ...................................\n",
      "[CV] ....... C=10, gamma=0.001, kernel=rbf, score=0.765, total=   0.6s\n",
      "[CV] C=10, gamma=0.001, kernel=rbf ...................................\n",
      "[CV] ....... C=10, gamma=0.001, kernel=rbf, score=0.765, total=   0.6s\n",
      "[CV] C=10, gamma=0.001, kernel=rbf ...................................\n",
      "[CV] ....... C=10, gamma=0.001, kernel=rbf, score=0.766, total=   0.6s\n",
      "[CV] C=10, gamma=0.001, kernel=poly ..................................\n",
      "[CV] ...... C=10, gamma=0.001, kernel=poly, score=0.765, total=   0.2s\n",
      "[CV] C=10, gamma=0.001, kernel=poly ..................................\n",
      "[CV] ...... C=10, gamma=0.001, kernel=poly, score=0.765, total=   0.2s\n",
      "[CV] C=10, gamma=0.001, kernel=poly ..................................\n",
      "[CV] ...... C=10, gamma=0.001, kernel=poly, score=0.766, total=   0.3s\n",
      "[CV] C=10, gamma=0.01, kernel=linear .................................\n",
      "[CV] ..... C=10, gamma=0.01, kernel=linear, score=0.765, total=   0.6s\n",
      "[CV] C=10, gamma=0.01, kernel=linear .................................\n",
      "[CV] ..... C=10, gamma=0.01, kernel=linear, score=0.765, total=   0.5s\n",
      "[CV] C=10, gamma=0.01, kernel=linear .................................\n",
      "[CV] ..... C=10, gamma=0.01, kernel=linear, score=0.766, total=   0.5s\n",
      "[CV] C=10, gamma=0.01, kernel=rbf ....................................\n",
      "[CV] ........ C=10, gamma=0.01, kernel=rbf, score=0.765, total=   2.0s\n",
      "[CV] C=10, gamma=0.01, kernel=rbf ....................................\n",
      "[CV] ........ C=10, gamma=0.01, kernel=rbf, score=0.765, total=   3.5s\n",
      "[CV] C=10, gamma=0.01, kernel=rbf ....................................\n",
      "[CV] ........ C=10, gamma=0.01, kernel=rbf, score=0.766, total=   2.9s\n",
      "[CV] C=10, gamma=0.01, kernel=poly ...................................\n",
      "[CV] ....... C=10, gamma=0.01, kernel=poly, score=0.765, total=   0.5s\n",
      "[CV] C=10, gamma=0.01, kernel=poly ...................................\n",
      "[CV] ....... C=10, gamma=0.01, kernel=poly, score=0.765, total=   0.7s\n",
      "[CV] C=10, gamma=0.01, kernel=poly ...................................\n",
      "[CV] ....... C=10, gamma=0.01, kernel=poly, score=0.766, total=   0.6s\n"
     ]
    },
    {
     "name": "stderr",
     "output_type": "stream",
     "text": [
      "[Parallel(n_jobs=1)]: Done  81 out of  81 | elapsed:   44.8s finished\n"
     ]
    },
    {
     "name": "stdout",
     "output_type": "stream",
     "text": [
      "{'C': 1, 'gamma': 0.0001, 'kernel': 'linear'}\n",
      "0.7654472794343683\n",
      "Training Data I_E Score: 0.7654472794343683\n",
      "Testing Data I_E Score: 0.7819271553711388\n",
      "              precision    recall  f1-score   support\n",
      "\n",
      "   Introvert       0.00      0.00      0.00       473\n",
      "   Extrovert       0.78      1.00      0.88      1696\n",
      "\n",
      "    accuracy                           0.78      2169\n",
      "   macro avg       0.39      0.50      0.44      2169\n",
      "weighted avg       0.61      0.78      0.69      2169\n",
      "\n"
     ]
    },
    {
     "name": "stderr",
     "output_type": "stream",
     "text": [
      "/Users/Jo/anaconda3/envs/PythonData/lib/python3.6/site-packages/sklearn/metrics/classification.py:1437: UndefinedMetricWarning: Precision and F-score are ill-defined and being set to 0.0 in labels with no predicted samples.\n",
      "  'precision', 'predicted', average, warn_for)\n"
     ]
    }
   ],
   "source": [
    "# Create the GridSearchCV model\n",
    "param_grid = {'C': [1, 5, 10],\n",
    "              'gamma': [0.0001, 0.001, 0.01],\n",
    "              'kernel':['linear','rbf','poly']}\n",
    "grid1 = GridSearchCV(model1, param_grid, verbose=3)\n",
    "\n",
    "# Train the model with GridSearch\n",
    "grid1.fit(X_train_scaled1, encoded_y_train1)\n",
    "\n",
    "print(grid1.best_params_)\n",
    "print(grid1.best_score_)\n",
    "\n",
    "predictions1 = grid1.predict(X_test_scaled1)\n",
    "\n",
    "print(f\"Training Data I_E Score: {grid1.score(X_train_scaled1, encoded_y_train1)}\")\n",
    "print(f\"Testing Data I_E Score: {grid1.score(X_test_scaled1, encoded_y_test1)}\")\n",
    "\n",
    "print(classification_report(encoded_y_test1, predictions1, target_names=target_names1))"
   ]
  },
  {
   "cell_type": "code",
   "execution_count": 28,
   "metadata": {},
   "outputs": [
    {
     "data": {
      "text/plain": [
       "['Models/svm_ie.sav']"
      ]
     },
     "execution_count": 28,
     "metadata": {},
     "output_type": "execute_result"
    }
   ],
   "source": [
    "joblib.dump(grid1.best_estimator_, 'Models/svm_ie.sav')"
   ]
  },
  {
   "cell_type": "markdown",
   "metadata": {},
   "source": [
    "# Re-test for N vs. S"
   ]
  },
  {
   "cell_type": "code",
   "execution_count": 13,
   "metadata": {},
   "outputs": [
    {
     "name": "stdout",
     "output_type": "stream",
     "text": [
      "Training Data N_S Score: 0.8632031970488779\n",
      "Testing Data N_S Score: 0.8584601198709082\n",
      "              precision    recall  f1-score   support\n",
      "\n",
      "   Intuition       0.86      1.00      0.92      1862\n",
      "     Sensing       0.00      0.00      0.00       307\n",
      "\n",
      "    accuracy                           0.86      2169\n",
      "   macro avg       0.43      0.50      0.46      2169\n",
      "weighted avg       0.74      0.86      0.79      2169\n",
      "\n"
     ]
    },
    {
     "name": "stderr",
     "output_type": "stream",
     "text": [
      "/Users/Jo/anaconda3/envs/PythonData/lib/python3.6/site-packages/sklearn/metrics/classification.py:1437: UndefinedMetricWarning: Precision and F-score are ill-defined and being set to 0.0 in labels with no predicted samples.\n",
      "  'precision', 'predicted', average, warn_for)\n"
     ]
    }
   ],
   "source": [
    "target2 = mbti_df[\"n_s\"]\n",
    "target_names2 = [\"Intuition\",\"Sensing\"]\n",
    "\n",
    "X_train, X_test, y_train, y_test = train_test_split(selected_features, target2, random_state=42)\n",
    "\n",
    "X_scaler = StandardScaler().fit(X_train)\n",
    "X_train_scaled2 = X_scaler.transform(X_train)\n",
    "X_test_scaled2 = X_scaler.transform(X_test)\n",
    "\n",
    "label_encoder = LabelEncoder()\n",
    "label_encoder.fit(y_train)\n",
    "encoded_y_train2 = label_encoder.transform(y_train)\n",
    "encoded_y_test2 = label_encoder.transform(y_test)\n",
    "\n",
    "model2 = SVC(kernel='linear')\n",
    "model2.fit(X_train_scaled2, encoded_y_train2)\n",
    "\n",
    "print(f\"Training Data N_S Score: {model2.score(X_train_scaled2, encoded_y_train2)}\")\n",
    "print(f\"Testing Data N_S Score: {model2.score(X_test_scaled2, encoded_y_test2)}\")\n",
    "\n",
    "predictions2 = model2.predict(X_test_scaled2)\n",
    "print(classification_report(encoded_y_test2, predictions2,\n",
    "                            target_names=target_names2))"
   ]
  },
  {
   "cell_type": "markdown",
   "metadata": {},
   "source": [
    "# Hypertune"
   ]
  },
  {
   "cell_type": "code",
   "execution_count": 29,
   "metadata": {},
   "outputs": [
    {
     "name": "stderr",
     "output_type": "stream",
     "text": [
      "/Users/Jo/anaconda3/envs/PythonData/lib/python3.6/site-packages/sklearn/model_selection/_split.py:1978: FutureWarning: The default value of cv will change from 3 to 5 in version 0.22. Specify it explicitly to silence this warning.\n",
      "  warnings.warn(CV_WARNING, FutureWarning)\n",
      "[Parallel(n_jobs=1)]: Using backend SequentialBackend with 1 concurrent workers.\n",
      "[Parallel(n_jobs=1)]: Done   1 out of   1 | elapsed:    0.2s remaining:    0.0s\n"
     ]
    },
    {
     "name": "stdout",
     "output_type": "stream",
     "text": [
      "Fitting 3 folds for each of 27 candidates, totalling 81 fits\n",
      "[CV] C=1, gamma=0.0001, kernel=linear ................................\n",
      "[CV] .... C=1, gamma=0.0001, kernel=linear, score=0.863, total=   0.2s\n",
      "[CV] C=1, gamma=0.0001, kernel=linear ................................\n",
      "[CV] .... C=1, gamma=0.0001, kernel=linear, score=0.863, total=   0.2s\n",
      "[CV] C=1, gamma=0.0001, kernel=linear ................................\n",
      "[CV] .... C=1, gamma=0.0001, kernel=linear, score=0.863, total=   0.2s\n",
      "[CV] C=1, gamma=0.0001, kernel=rbf ...................................\n"
     ]
    },
    {
     "name": "stderr",
     "output_type": "stream",
     "text": [
      "[Parallel(n_jobs=1)]: Done   2 out of   2 | elapsed:    0.3s remaining:    0.0s\n"
     ]
    },
    {
     "name": "stdout",
     "output_type": "stream",
     "text": [
      "[CV] ....... C=1, gamma=0.0001, kernel=rbf, score=0.863, total=   0.2s\n",
      "[CV] C=1, gamma=0.0001, kernel=rbf ...................................\n",
      "[CV] ....... C=1, gamma=0.0001, kernel=rbf, score=0.863, total=   0.2s\n",
      "[CV] C=1, gamma=0.0001, kernel=rbf ...................................\n",
      "[CV] ....... C=1, gamma=0.0001, kernel=rbf, score=0.863, total=   0.2s\n",
      "[CV] C=1, gamma=0.0001, kernel=poly ..................................\n",
      "[CV] ...... C=1, gamma=0.0001, kernel=poly, score=0.863, total=   0.1s\n",
      "[CV] C=1, gamma=0.0001, kernel=poly ..................................\n",
      "[CV] ...... C=1, gamma=0.0001, kernel=poly, score=0.863, total=   0.1s\n",
      "[CV] C=1, gamma=0.0001, kernel=poly ..................................\n",
      "[CV] ...... C=1, gamma=0.0001, kernel=poly, score=0.863, total=   0.1s\n",
      "[CV] C=1, gamma=0.001, kernel=linear .................................\n",
      "[CV] ..... C=1, gamma=0.001, kernel=linear, score=0.863, total=   0.2s\n",
      "[CV] C=1, gamma=0.001, kernel=linear .................................\n",
      "[CV] ..... C=1, gamma=0.001, kernel=linear, score=0.863, total=   0.2s\n",
      "[CV] C=1, gamma=0.001, kernel=linear .................................\n",
      "[CV] ..... C=1, gamma=0.001, kernel=linear, score=0.863, total=   0.2s\n",
      "[CV] C=1, gamma=0.001, kernel=rbf ....................................\n",
      "[CV] ........ C=1, gamma=0.001, kernel=rbf, score=0.863, total=   0.3s\n",
      "[CV] C=1, gamma=0.001, kernel=rbf ....................................\n",
      "[CV] ........ C=1, gamma=0.001, kernel=rbf, score=0.863, total=   0.2s\n",
      "[CV] C=1, gamma=0.001, kernel=rbf ....................................\n",
      "[CV] ........ C=1, gamma=0.001, kernel=rbf, score=0.863, total=   0.3s\n",
      "[CV] C=1, gamma=0.001, kernel=poly ...................................\n",
      "[CV] ....... C=1, gamma=0.001, kernel=poly, score=0.863, total=   0.1s\n",
      "[CV] C=1, gamma=0.001, kernel=poly ...................................\n",
      "[CV] ....... C=1, gamma=0.001, kernel=poly, score=0.863, total=   0.1s\n",
      "[CV] C=1, gamma=0.001, kernel=poly ...................................\n",
      "[CV] ....... C=1, gamma=0.001, kernel=poly, score=0.863, total=   0.1s\n",
      "[CV] C=1, gamma=0.01, kernel=linear ..................................\n",
      "[CV] ...... C=1, gamma=0.01, kernel=linear, score=0.863, total=   0.2s\n",
      "[CV] C=1, gamma=0.01, kernel=linear ..................................\n",
      "[CV] ...... C=1, gamma=0.01, kernel=linear, score=0.863, total=   0.2s\n",
      "[CV] C=1, gamma=0.01, kernel=linear ..................................\n",
      "[CV] ...... C=1, gamma=0.01, kernel=linear, score=0.863, total=   0.2s\n",
      "[CV] C=1, gamma=0.01, kernel=rbf .....................................\n",
      "[CV] ......... C=1, gamma=0.01, kernel=rbf, score=0.863, total=   0.4s\n",
      "[CV] C=1, gamma=0.01, kernel=rbf .....................................\n",
      "[CV] ......... C=1, gamma=0.01, kernel=rbf, score=0.863, total=   0.4s\n",
      "[CV] C=1, gamma=0.01, kernel=rbf .....................................\n",
      "[CV] ......... C=1, gamma=0.01, kernel=rbf, score=0.863, total=   0.5s\n",
      "[CV] C=1, gamma=0.01, kernel=poly ....................................\n",
      "[CV] ........ C=1, gamma=0.01, kernel=poly, score=0.863, total=   0.2s\n",
      "[CV] C=1, gamma=0.01, kernel=poly ....................................\n",
      "[CV] ........ C=1, gamma=0.01, kernel=poly, score=0.863, total=   0.2s\n",
      "[CV] C=1, gamma=0.01, kernel=poly ....................................\n",
      "[CV] ........ C=1, gamma=0.01, kernel=poly, score=0.863, total=   0.2s\n",
      "[CV] C=5, gamma=0.0001, kernel=linear ................................\n",
      "[CV] .... C=5, gamma=0.0001, kernel=linear, score=0.863, total=   0.3s\n",
      "[CV] C=5, gamma=0.0001, kernel=linear ................................\n",
      "[CV] .... C=5, gamma=0.0001, kernel=linear, score=0.863, total=   0.2s\n",
      "[CV] C=5, gamma=0.0001, kernel=linear ................................\n",
      "[CV] .... C=5, gamma=0.0001, kernel=linear, score=0.863, total=   0.4s\n",
      "[CV] C=5, gamma=0.0001, kernel=rbf ...................................\n",
      "[CV] ....... C=5, gamma=0.0001, kernel=rbf, score=0.863, total=   0.3s\n",
      "[CV] C=5, gamma=0.0001, kernel=rbf ...................................\n",
      "[CV] ....... C=5, gamma=0.0001, kernel=rbf, score=0.863, total=   0.3s\n",
      "[CV] C=5, gamma=0.0001, kernel=rbf ...................................\n",
      "[CV] ....... C=5, gamma=0.0001, kernel=rbf, score=0.863, total=   0.3s\n",
      "[CV] C=5, gamma=0.0001, kernel=poly ..................................\n",
      "[CV] ...... C=5, gamma=0.0001, kernel=poly, score=0.863, total=   0.1s\n",
      "[CV] C=5, gamma=0.0001, kernel=poly ..................................\n",
      "[CV] ...... C=5, gamma=0.0001, kernel=poly, score=0.863, total=   0.1s\n",
      "[CV] C=5, gamma=0.0001, kernel=poly ..................................\n",
      "[CV] ...... C=5, gamma=0.0001, kernel=poly, score=0.863, total=   0.1s\n",
      "[CV] C=5, gamma=0.001, kernel=linear .................................\n",
      "[CV] ..... C=5, gamma=0.001, kernel=linear, score=0.863, total=   0.3s\n",
      "[CV] C=5, gamma=0.001, kernel=linear .................................\n",
      "[CV] ..... C=5, gamma=0.001, kernel=linear, score=0.863, total=   0.2s\n",
      "[CV] C=5, gamma=0.001, kernel=linear .................................\n",
      "[CV] ..... C=5, gamma=0.001, kernel=linear, score=0.863, total=   0.4s\n",
      "[CV] C=5, gamma=0.001, kernel=rbf ....................................\n",
      "[CV] ........ C=5, gamma=0.001, kernel=rbf, score=0.863, total=   0.3s\n",
      "[CV] C=5, gamma=0.001, kernel=rbf ....................................\n",
      "[CV] ........ C=5, gamma=0.001, kernel=rbf, score=0.863, total=   0.4s\n",
      "[CV] C=5, gamma=0.001, kernel=rbf ....................................\n",
      "[CV] ........ C=5, gamma=0.001, kernel=rbf, score=0.863, total=   0.4s\n",
      "[CV] C=5, gamma=0.001, kernel=poly ...................................\n",
      "[CV] ....... C=5, gamma=0.001, kernel=poly, score=0.863, total=   0.1s\n",
      "[CV] C=5, gamma=0.001, kernel=poly ...................................\n",
      "[CV] ....... C=5, gamma=0.001, kernel=poly, score=0.863, total=   0.1s\n",
      "[CV] C=5, gamma=0.001, kernel=poly ...................................\n",
      "[CV] ....... C=5, gamma=0.001, kernel=poly, score=0.863, total=   0.1s\n",
      "[CV] C=5, gamma=0.01, kernel=linear ..................................\n",
      "[CV] ...... C=5, gamma=0.01, kernel=linear, score=0.863, total=   0.3s\n",
      "[CV] C=5, gamma=0.01, kernel=linear ..................................\n",
      "[CV] ...... C=5, gamma=0.01, kernel=linear, score=0.863, total=   0.3s\n",
      "[CV] C=5, gamma=0.01, kernel=linear ..................................\n",
      "[CV] ...... C=5, gamma=0.01, kernel=linear, score=0.863, total=   0.4s\n",
      "[CV] C=5, gamma=0.01, kernel=rbf .....................................\n",
      "[CV] ......... C=5, gamma=0.01, kernel=rbf, score=0.863, total=   1.1s\n",
      "[CV] C=5, gamma=0.01, kernel=rbf .....................................\n",
      "[CV] ......... C=5, gamma=0.01, kernel=rbf, score=0.863, total=   1.0s\n",
      "[CV] C=5, gamma=0.01, kernel=rbf .....................................\n",
      "[CV] ......... C=5, gamma=0.01, kernel=rbf, score=0.863, total=   1.6s\n",
      "[CV] C=5, gamma=0.01, kernel=poly ....................................\n",
      "[CV] ........ C=5, gamma=0.01, kernel=poly, score=0.863, total=   0.4s\n",
      "[CV] C=5, gamma=0.01, kernel=poly ....................................\n",
      "[CV] ........ C=5, gamma=0.01, kernel=poly, score=0.863, total=   0.3s\n",
      "[CV] C=5, gamma=0.01, kernel=poly ....................................\n",
      "[CV] ........ C=5, gamma=0.01, kernel=poly, score=0.863, total=   0.4s\n",
      "[CV] C=10, gamma=0.0001, kernel=linear ...............................\n",
      "[CV] ... C=10, gamma=0.0001, kernel=linear, score=0.863, total=   0.6s\n",
      "[CV] C=10, gamma=0.0001, kernel=linear ...............................\n",
      "[CV] ... C=10, gamma=0.0001, kernel=linear, score=0.863, total=   0.4s\n",
      "[CV] C=10, gamma=0.0001, kernel=linear ...............................\n",
      "[CV] ... C=10, gamma=0.0001, kernel=linear, score=0.863, total=   0.7s\n",
      "[CV] C=10, gamma=0.0001, kernel=rbf ..................................\n",
      "[CV] ...... C=10, gamma=0.0001, kernel=rbf, score=0.863, total=   0.3s\n",
      "[CV] C=10, gamma=0.0001, kernel=rbf ..................................\n",
      "[CV] ...... C=10, gamma=0.0001, kernel=rbf, score=0.863, total=   0.3s\n",
      "[CV] C=10, gamma=0.0001, kernel=rbf ..................................\n",
      "[CV] ...... C=10, gamma=0.0001, kernel=rbf, score=0.863, total=   0.3s\n",
      "[CV] C=10, gamma=0.0001, kernel=poly .................................\n",
      "[CV] ..... C=10, gamma=0.0001, kernel=poly, score=0.863, total=   0.1s\n",
      "[CV] C=10, gamma=0.0001, kernel=poly .................................\n"
     ]
    },
    {
     "name": "stdout",
     "output_type": "stream",
     "text": [
      "[CV] ..... C=10, gamma=0.0001, kernel=poly, score=0.863, total=   0.1s\n",
      "[CV] C=10, gamma=0.0001, kernel=poly .................................\n",
      "[CV] ..... C=10, gamma=0.0001, kernel=poly, score=0.863, total=   0.1s\n",
      "[CV] C=10, gamma=0.001, kernel=linear ................................\n",
      "[CV] .... C=10, gamma=0.001, kernel=linear, score=0.863, total=   0.6s\n",
      "[CV] C=10, gamma=0.001, kernel=linear ................................\n",
      "[CV] .... C=10, gamma=0.001, kernel=linear, score=0.863, total=   0.4s\n",
      "[CV] C=10, gamma=0.001, kernel=linear ................................\n",
      "[CV] .... C=10, gamma=0.001, kernel=linear, score=0.863, total=   0.7s\n",
      "[CV] C=10, gamma=0.001, kernel=rbf ...................................\n",
      "[CV] ....... C=10, gamma=0.001, kernel=rbf, score=0.863, total=   0.4s\n",
      "[CV] C=10, gamma=0.001, kernel=rbf ...................................\n",
      "[CV] ....... C=10, gamma=0.001, kernel=rbf, score=0.863, total=   0.4s\n",
      "[CV] C=10, gamma=0.001, kernel=rbf ...................................\n",
      "[CV] ....... C=10, gamma=0.001, kernel=rbf, score=0.863, total=   0.5s\n",
      "[CV] C=10, gamma=0.001, kernel=poly ..................................\n",
      "[CV] ...... C=10, gamma=0.001, kernel=poly, score=0.863, total=   0.1s\n",
      "[CV] C=10, gamma=0.001, kernel=poly ..................................\n",
      "[CV] ...... C=10, gamma=0.001, kernel=poly, score=0.863, total=   0.1s\n",
      "[CV] C=10, gamma=0.001, kernel=poly ..................................\n",
      "[CV] ...... C=10, gamma=0.001, kernel=poly, score=0.863, total=   0.1s\n",
      "[CV] C=10, gamma=0.01, kernel=linear .................................\n",
      "[CV] ..... C=10, gamma=0.01, kernel=linear, score=0.863, total=   0.6s\n",
      "[CV] C=10, gamma=0.01, kernel=linear .................................\n",
      "[CV] ..... C=10, gamma=0.01, kernel=linear, score=0.863, total=   0.4s\n",
      "[CV] C=10, gamma=0.01, kernel=linear .................................\n",
      "[CV] ..... C=10, gamma=0.01, kernel=linear, score=0.863, total=   0.7s\n",
      "[CV] C=10, gamma=0.01, kernel=rbf ....................................\n",
      "[CV] ........ C=10, gamma=0.01, kernel=rbf, score=0.863, total=   2.3s\n",
      "[CV] C=10, gamma=0.01, kernel=rbf ....................................\n",
      "[CV] ........ C=10, gamma=0.01, kernel=rbf, score=0.863, total=   2.1s\n",
      "[CV] C=10, gamma=0.01, kernel=rbf ....................................\n",
      "[CV] ........ C=10, gamma=0.01, kernel=rbf, score=0.863, total=   2.8s\n",
      "[CV] C=10, gamma=0.01, kernel=poly ...................................\n",
      "[CV] ....... C=10, gamma=0.01, kernel=poly, score=0.863, total=   0.6s\n",
      "[CV] C=10, gamma=0.01, kernel=poly ...................................\n",
      "[CV] ....... C=10, gamma=0.01, kernel=poly, score=0.863, total=   0.3s\n",
      "[CV] C=10, gamma=0.01, kernel=poly ...................................\n",
      "[CV] ....... C=10, gamma=0.01, kernel=poly, score=0.863, total=   0.5s\n"
     ]
    },
    {
     "name": "stderr",
     "output_type": "stream",
     "text": [
      "[Parallel(n_jobs=1)]: Done  81 out of  81 | elapsed:   32.4s finished\n"
     ]
    },
    {
     "name": "stdout",
     "output_type": "stream",
     "text": [
      "{'C': 1, 'gamma': 0.0001, 'kernel': 'linear'}\n",
      "0.8632031970488779\n",
      "Training Data N_S Score: 0.8632031970488779\n",
      "Testing Data N_S Score: 0.8584601198709082\n",
      "              precision    recall  f1-score   support\n",
      "\n",
      "   Intuition       0.86      1.00      0.92      1862\n",
      "     Sensing       0.00      0.00      0.00       307\n",
      "\n",
      "    accuracy                           0.86      2169\n",
      "   macro avg       0.43      0.50      0.46      2169\n",
      "weighted avg       0.74      0.86      0.79      2169\n",
      "\n"
     ]
    },
    {
     "name": "stderr",
     "output_type": "stream",
     "text": [
      "/Users/Jo/anaconda3/envs/PythonData/lib/python3.6/site-packages/sklearn/metrics/classification.py:1437: UndefinedMetricWarning: Precision and F-score are ill-defined and being set to 0.0 in labels with no predicted samples.\n",
      "  'precision', 'predicted', average, warn_for)\n"
     ]
    }
   ],
   "source": [
    "# Create the GridSearchCV model\n",
    "grid2 = GridSearchCV(model2, param_grid, verbose=3)\n",
    "\n",
    "# Train the model with GridSearch\n",
    "grid2.fit(X_train_scaled2, encoded_y_train2)\n",
    "\n",
    "print(grid2.best_params_)\n",
    "print(grid2.best_score_)\n",
    "\n",
    "predictions2 = grid2.predict(X_test_scaled2)\n",
    "\n",
    "print(f\"Training Data N_S Score: {grid2.score(X_train_scaled2, encoded_y_train2)}\")\n",
    "print(f\"Testing Data N_S Score: {grid2.score(X_test_scaled2, encoded_y_test2)}\")\n",
    "\n",
    "print(classification_report(encoded_y_test2, predictions2, target_names=target_names2))"
   ]
  },
  {
   "cell_type": "code",
   "execution_count": 30,
   "metadata": {},
   "outputs": [
    {
     "data": {
      "text/plain": [
       "['Models/svm_ns.sav']"
      ]
     },
     "execution_count": 30,
     "metadata": {},
     "output_type": "execute_result"
    }
   ],
   "source": [
    "joblib.dump(grid2.best_estimator_, 'Models/svm_ns.sav')"
   ]
  },
  {
   "cell_type": "markdown",
   "metadata": {},
   "source": [
    "# Re-test for F vs. T"
   ]
  },
  {
   "cell_type": "code",
   "execution_count": 14,
   "metadata": {},
   "outputs": [
    {
     "name": "stdout",
     "output_type": "stream",
     "text": [
      "Training Data F_T Score: 0.6034429757147248\n",
      "Testing Data F_T Score: 0.6154910096818811\n",
      "              precision    recall  f1-score   support\n",
      "\n",
      "     Feeling       0.63      0.71      0.67      1179\n",
      "    Thinking       0.59      0.51      0.55       990\n",
      "\n",
      "    accuracy                           0.62      2169\n",
      "   macro avg       0.61      0.61      0.61      2169\n",
      "weighted avg       0.61      0.62      0.61      2169\n",
      "\n"
     ]
    }
   ],
   "source": [
    "target3 = mbti_df[\"f_t\"]\n",
    "target_names3 = [\"Feeling\",\"Thinking\"]\n",
    "\n",
    "X_train, X_test, y_train, y_test = train_test_split(selected_features, target3, random_state=42)\n",
    "\n",
    "X_scaler = StandardScaler().fit(X_train)\n",
    "X_train_scaled3 = X_scaler.transform(X_train)\n",
    "X_test_scaled3 = X_scaler.transform(X_test)\n",
    "\n",
    "label_encoder = LabelEncoder()\n",
    "label_encoder.fit(y_train)\n",
    "encoded_y_train3 = label_encoder.transform(y_train)\n",
    "encoded_y_test3 = label_encoder.transform(y_test)\n",
    "\n",
    "model3 = SVC(kernel='linear')\n",
    "model3.fit(X_train_scaled3, encoded_y_train3)\n",
    "\n",
    "print(f\"Training Data F_T Score: {model3.score(X_train_scaled3, encoded_y_train3)}\")\n",
    "print(f\"Testing Data F_T Score: {model3.score(X_test_scaled3, encoded_y_test3)}\")\n",
    "\n",
    "predictions3 = model3.predict(X_test_scaled3)\n",
    "print(classification_report(encoded_y_test3, predictions3,\n",
    "                            target_names=target_names3))"
   ]
  },
  {
   "cell_type": "markdown",
   "metadata": {},
   "source": [
    "# Hypertune"
   ]
  },
  {
   "cell_type": "code",
   "execution_count": 31,
   "metadata": {},
   "outputs": [
    {
     "name": "stderr",
     "output_type": "stream",
     "text": [
      "/Users/Jo/anaconda3/envs/PythonData/lib/python3.6/site-packages/sklearn/model_selection/_split.py:1978: FutureWarning: The default value of cv will change from 3 to 5 in version 0.22. Specify it explicitly to silence this warning.\n",
      "  warnings.warn(CV_WARNING, FutureWarning)\n",
      "[Parallel(n_jobs=1)]: Using backend SequentialBackend with 1 concurrent workers.\n"
     ]
    },
    {
     "name": "stdout",
     "output_type": "stream",
     "text": [
      "Fitting 3 folds for each of 27 candidates, totalling 81 fits\n",
      "[CV] C=1, gamma=0.0001, kernel=linear ................................\n",
      "[CV] .... C=1, gamma=0.0001, kernel=linear, score=0.596, total=   0.9s\n",
      "[CV] C=1, gamma=0.0001, kernel=linear ................................\n"
     ]
    },
    {
     "name": "stderr",
     "output_type": "stream",
     "text": [
      "[Parallel(n_jobs=1)]: Done   1 out of   1 | elapsed:    0.9s remaining:    0.0s\n"
     ]
    },
    {
     "name": "stdout",
     "output_type": "stream",
     "text": [
      "[CV] .... C=1, gamma=0.0001, kernel=linear, score=0.621, total=   0.9s\n",
      "[CV] C=1, gamma=0.0001, kernel=linear ................................\n"
     ]
    },
    {
     "name": "stderr",
     "output_type": "stream",
     "text": [
      "[Parallel(n_jobs=1)]: Done   2 out of   2 | elapsed:    1.8s remaining:    0.0s\n"
     ]
    },
    {
     "name": "stdout",
     "output_type": "stream",
     "text": [
      "[CV] .... C=1, gamma=0.0001, kernel=linear, score=0.599, total=   0.8s\n",
      "[CV] C=1, gamma=0.0001, kernel=rbf ...................................\n",
      "[CV] ....... C=1, gamma=0.0001, kernel=rbf, score=0.540, total=   0.7s\n",
      "[CV] C=1, gamma=0.0001, kernel=rbf ...................................\n",
      "[CV] ....... C=1, gamma=0.0001, kernel=rbf, score=0.540, total=   0.7s\n",
      "[CV] C=1, gamma=0.0001, kernel=rbf ...................................\n",
      "[CV] ....... C=1, gamma=0.0001, kernel=rbf, score=0.540, total=   0.7s\n",
      "[CV] C=1, gamma=0.0001, kernel=poly ..................................\n",
      "[CV] ...... C=1, gamma=0.0001, kernel=poly, score=0.540, total=   0.5s\n",
      "[CV] C=1, gamma=0.0001, kernel=poly ..................................\n",
      "[CV] ...... C=1, gamma=0.0001, kernel=poly, score=0.540, total=   0.5s\n",
      "[CV] C=1, gamma=0.0001, kernel=poly ..................................\n",
      "[CV] ...... C=1, gamma=0.0001, kernel=poly, score=0.540, total=   0.5s\n",
      "[CV] C=1, gamma=0.001, kernel=linear .................................\n",
      "[CV] ..... C=1, gamma=0.001, kernel=linear, score=0.596, total=   0.8s\n",
      "[CV] C=1, gamma=0.001, kernel=linear .................................\n",
      "[CV] ..... C=1, gamma=0.001, kernel=linear, score=0.621, total=   0.9s\n",
      "[CV] C=1, gamma=0.001, kernel=linear .................................\n",
      "[CV] ..... C=1, gamma=0.001, kernel=linear, score=0.599, total=   0.8s\n",
      "[CV] C=1, gamma=0.001, kernel=rbf ....................................\n",
      "[CV] ........ C=1, gamma=0.001, kernel=rbf, score=0.556, total=   0.7s\n",
      "[CV] C=1, gamma=0.001, kernel=rbf ....................................\n",
      "[CV] ........ C=1, gamma=0.001, kernel=rbf, score=0.553, total=   0.7s\n",
      "[CV] C=1, gamma=0.001, kernel=rbf ....................................\n",
      "[CV] ........ C=1, gamma=0.001, kernel=rbf, score=0.548, total=   0.7s\n",
      "[CV] C=1, gamma=0.001, kernel=poly ...................................\n",
      "[CV] ....... C=1, gamma=0.001, kernel=poly, score=0.540, total=   0.5s\n",
      "[CV] C=1, gamma=0.001, kernel=poly ...................................\n",
      "[CV] ....... C=1, gamma=0.001, kernel=poly, score=0.540, total=   0.5s\n",
      "[CV] C=1, gamma=0.001, kernel=poly ...................................\n",
      "[CV] ....... C=1, gamma=0.001, kernel=poly, score=0.540, total=   0.5s\n",
      "[CV] C=1, gamma=0.01, kernel=linear ..................................\n",
      "[CV] ...... C=1, gamma=0.01, kernel=linear, score=0.596, total=   0.8s\n",
      "[CV] C=1, gamma=0.01, kernel=linear ..................................\n",
      "[CV] ...... C=1, gamma=0.01, kernel=linear, score=0.621, total=   0.9s\n",
      "[CV] C=1, gamma=0.01, kernel=linear ..................................\n",
      "[CV] ...... C=1, gamma=0.01, kernel=linear, score=0.599, total=   0.8s\n",
      "[CV] C=1, gamma=0.01, kernel=rbf .....................................\n",
      "[CV] ......... C=1, gamma=0.01, kernel=rbf, score=0.589, total=   0.7s\n",
      "[CV] C=1, gamma=0.01, kernel=rbf .....................................\n",
      "[CV] ......... C=1, gamma=0.01, kernel=rbf, score=0.623, total=   0.6s\n",
      "[CV] C=1, gamma=0.01, kernel=rbf .....................................\n",
      "[CV] ......... C=1, gamma=0.01, kernel=rbf, score=0.622, total=   0.6s\n",
      "[CV] C=1, gamma=0.01, kernel=poly ....................................\n",
      "[CV] ........ C=1, gamma=0.01, kernel=poly, score=0.540, total=   0.5s\n",
      "[CV] C=1, gamma=0.01, kernel=poly ....................................\n",
      "[CV] ........ C=1, gamma=0.01, kernel=poly, score=0.540, total=   0.6s\n",
      "[CV] C=1, gamma=0.01, kernel=poly ....................................\n",
      "[CV] ........ C=1, gamma=0.01, kernel=poly, score=0.539, total=   0.6s\n",
      "[CV] C=5, gamma=0.0001, kernel=linear ................................\n",
      "[CV] .... C=5, gamma=0.0001, kernel=linear, score=0.595, total=   1.8s\n",
      "[CV] C=5, gamma=0.0001, kernel=linear ................................\n",
      "[CV] .... C=5, gamma=0.0001, kernel=linear, score=0.622, total=   1.6s\n",
      "[CV] C=5, gamma=0.0001, kernel=linear ................................\n",
      "[CV] .... C=5, gamma=0.0001, kernel=linear, score=0.598, total=   1.6s\n",
      "[CV] C=5, gamma=0.0001, kernel=rbf ...................................\n",
      "[CV] ....... C=5, gamma=0.0001, kernel=rbf, score=0.540, total=   0.7s\n",
      "[CV] C=5, gamma=0.0001, kernel=rbf ...................................\n",
      "[CV] ....... C=5, gamma=0.0001, kernel=rbf, score=0.539, total=   0.7s\n",
      "[CV] C=5, gamma=0.0001, kernel=rbf ...................................\n",
      "[CV] ....... C=5, gamma=0.0001, kernel=rbf, score=0.541, total=   0.7s\n",
      "[CV] C=5, gamma=0.0001, kernel=poly ..................................\n",
      "[CV] ...... C=5, gamma=0.0001, kernel=poly, score=0.540, total=   0.5s\n",
      "[CV] C=5, gamma=0.0001, kernel=poly ..................................\n",
      "[CV] ...... C=5, gamma=0.0001, kernel=poly, score=0.540, total=   0.5s\n",
      "[CV] C=5, gamma=0.0001, kernel=poly ..................................\n",
      "[CV] ...... C=5, gamma=0.0001, kernel=poly, score=0.540, total=   0.5s\n",
      "[CV] C=5, gamma=0.001, kernel=linear .................................\n",
      "[CV] ..... C=5, gamma=0.001, kernel=linear, score=0.595, total=   1.8s\n",
      "[CV] C=5, gamma=0.001, kernel=linear .................................\n",
      "[CV] ..... C=5, gamma=0.001, kernel=linear, score=0.622, total=   1.6s\n",
      "[CV] C=5, gamma=0.001, kernel=linear .................................\n",
      "[CV] ..... C=5, gamma=0.001, kernel=linear, score=0.598, total=   1.7s\n",
      "[CV] C=5, gamma=0.001, kernel=rbf ....................................\n",
      "[CV] ........ C=5, gamma=0.001, kernel=rbf, score=0.599, total=   0.6s\n",
      "[CV] C=5, gamma=0.001, kernel=rbf ....................................\n",
      "[CV] ........ C=5, gamma=0.001, kernel=rbf, score=0.618, total=   0.7s\n",
      "[CV] C=5, gamma=0.001, kernel=rbf ....................................\n",
      "[CV] ........ C=5, gamma=0.001, kernel=rbf, score=0.602, total=   0.7s\n",
      "[CV] C=5, gamma=0.001, kernel=poly ...................................\n",
      "[CV] ....... C=5, gamma=0.001, kernel=poly, score=0.540, total=   0.6s\n",
      "[CV] C=5, gamma=0.001, kernel=poly ...................................\n",
      "[CV] ....... C=5, gamma=0.001, kernel=poly, score=0.540, total=   0.5s\n",
      "[CV] C=5, gamma=0.001, kernel=poly ...................................\n",
      "[CV] ....... C=5, gamma=0.001, kernel=poly, score=0.540, total=   0.6s\n",
      "[CV] C=5, gamma=0.01, kernel=linear ..................................\n",
      "[CV] ...... C=5, gamma=0.01, kernel=linear, score=0.595, total=   1.8s\n",
      "[CV] C=5, gamma=0.01, kernel=linear ..................................\n",
      "[CV] ...... C=5, gamma=0.01, kernel=linear, score=0.622, total=   1.6s\n",
      "[CV] C=5, gamma=0.01, kernel=linear ..................................\n",
      "[CV] ...... C=5, gamma=0.01, kernel=linear, score=0.598, total=   1.7s\n",
      "[CV] C=5, gamma=0.01, kernel=rbf .....................................\n",
      "[CV] ......... C=5, gamma=0.01, kernel=rbf, score=0.594, total=   0.7s\n",
      "[CV] C=5, gamma=0.01, kernel=rbf .....................................\n",
      "[CV] ......... C=5, gamma=0.01, kernel=rbf, score=0.624, total=   0.7s\n",
      "[CV] C=5, gamma=0.01, kernel=rbf .....................................\n",
      "[CV] ......... C=5, gamma=0.01, kernel=rbf, score=0.610, total=   0.7s\n",
      "[CV] C=5, gamma=0.01, kernel=poly ....................................\n",
      "[CV] ........ C=5, gamma=0.01, kernel=poly, score=0.541, total=   0.5s\n",
      "[CV] C=5, gamma=0.01, kernel=poly ....................................\n",
      "[CV] ........ C=5, gamma=0.01, kernel=poly, score=0.540, total=   0.5s\n",
      "[CV] C=5, gamma=0.01, kernel=poly ....................................\n",
      "[CV] ........ C=5, gamma=0.01, kernel=poly, score=0.539, total=   0.5s\n",
      "[CV] C=10, gamma=0.0001, kernel=linear ...............................\n",
      "[CV] ... C=10, gamma=0.0001, kernel=linear, score=0.595, total=   2.5s\n",
      "[CV] C=10, gamma=0.0001, kernel=linear ...............................\n",
      "[CV] ... C=10, gamma=0.0001, kernel=linear, score=0.622, total=   2.6s\n",
      "[CV] C=10, gamma=0.0001, kernel=linear ...............................\n",
      "[CV] ... C=10, gamma=0.0001, kernel=linear, score=0.597, total=   2.5s\n",
      "[CV] C=10, gamma=0.0001, kernel=rbf ..................................\n",
      "[CV] ...... C=10, gamma=0.0001, kernel=rbf, score=0.548, total=   0.7s\n",
      "[CV] C=10, gamma=0.0001, kernel=rbf ..................................\n",
      "[CV] ...... C=10, gamma=0.0001, kernel=rbf, score=0.553, total=   0.7s\n",
      "[CV] C=10, gamma=0.0001, kernel=rbf ..................................\n",
      "[CV] ...... C=10, gamma=0.0001, kernel=rbf, score=0.546, total=   0.7s\n",
      "[CV] C=10, gamma=0.0001, kernel=poly .................................\n"
     ]
    },
    {
     "name": "stdout",
     "output_type": "stream",
     "text": [
      "[CV] ..... C=10, gamma=0.0001, kernel=poly, score=0.540, total=   0.4s\n",
      "[CV] C=10, gamma=0.0001, kernel=poly .................................\n",
      "[CV] ..... C=10, gamma=0.0001, kernel=poly, score=0.540, total=   0.4s\n",
      "[CV] C=10, gamma=0.0001, kernel=poly .................................\n",
      "[CV] ..... C=10, gamma=0.0001, kernel=poly, score=0.540, total=   0.5s\n",
      "[CV] C=10, gamma=0.001, kernel=linear ................................\n",
      "[CV] .... C=10, gamma=0.001, kernel=linear, score=0.595, total=   2.5s\n",
      "[CV] C=10, gamma=0.001, kernel=linear ................................\n",
      "[CV] .... C=10, gamma=0.001, kernel=linear, score=0.622, total=   2.6s\n",
      "[CV] C=10, gamma=0.001, kernel=linear ................................\n",
      "[CV] .... C=10, gamma=0.001, kernel=linear, score=0.597, total=   2.5s\n",
      "[CV] C=10, gamma=0.001, kernel=rbf ...................................\n",
      "[CV] ....... C=10, gamma=0.001, kernel=rbf, score=0.599, total=   0.7s\n",
      "[CV] C=10, gamma=0.001, kernel=rbf ...................................\n",
      "[CV] ....... C=10, gamma=0.001, kernel=rbf, score=0.621, total=   0.7s\n",
      "[CV] C=10, gamma=0.001, kernel=rbf ...................................\n",
      "[CV] ....... C=10, gamma=0.001, kernel=rbf, score=0.602, total=   0.7s\n",
      "[CV] C=10, gamma=0.001, kernel=poly ..................................\n",
      "[CV] ...... C=10, gamma=0.001, kernel=poly, score=0.540, total=   0.5s\n",
      "[CV] C=10, gamma=0.001, kernel=poly ..................................\n",
      "[CV] ...... C=10, gamma=0.001, kernel=poly, score=0.540, total=   0.5s\n",
      "[CV] C=10, gamma=0.001, kernel=poly ..................................\n",
      "[CV] ...... C=10, gamma=0.001, kernel=poly, score=0.540, total=   0.6s\n",
      "[CV] C=10, gamma=0.01, kernel=linear .................................\n",
      "[CV] ..... C=10, gamma=0.01, kernel=linear, score=0.595, total=   2.5s\n",
      "[CV] C=10, gamma=0.01, kernel=linear .................................\n",
      "[CV] ..... C=10, gamma=0.01, kernel=linear, score=0.622, total=   2.6s\n",
      "[CV] C=10, gamma=0.01, kernel=linear .................................\n",
      "[CV] ..... C=10, gamma=0.01, kernel=linear, score=0.597, total=   2.5s\n",
      "[CV] C=10, gamma=0.01, kernel=rbf ....................................\n",
      "[CV] ........ C=10, gamma=0.01, kernel=rbf, score=0.594, total=   0.7s\n",
      "[CV] C=10, gamma=0.01, kernel=rbf ....................................\n",
      "[CV] ........ C=10, gamma=0.01, kernel=rbf, score=0.624, total=   0.7s\n",
      "[CV] C=10, gamma=0.01, kernel=rbf ....................................\n",
      "[CV] ........ C=10, gamma=0.01, kernel=rbf, score=0.608, total=   0.7s\n",
      "[CV] C=10, gamma=0.01, kernel=poly ...................................\n",
      "[CV] ....... C=10, gamma=0.01, kernel=poly, score=0.539, total=   0.5s\n",
      "[CV] C=10, gamma=0.01, kernel=poly ...................................\n",
      "[CV] ....... C=10, gamma=0.01, kernel=poly, score=0.541, total=   0.6s\n",
      "[CV] C=10, gamma=0.01, kernel=poly ...................................\n",
      "[CV] ....... C=10, gamma=0.01, kernel=poly, score=0.539, total=   0.5s\n"
     ]
    },
    {
     "name": "stderr",
     "output_type": "stream",
     "text": [
      "[Parallel(n_jobs=1)]: Done  81 out of  81 | elapsed:  1.3min finished\n"
     ]
    },
    {
     "name": "stdout",
     "output_type": "stream",
     "text": [
      "{'C': 1, 'gamma': 0.01, 'kernel': 'rbf'}\n",
      "0.6114355979096219\n",
      "Training Data F_T Score: 0.6163541346449432\n",
      "Testing Data F_T Score: 0.6168741355463347\n",
      "              precision    recall  f1-score   support\n",
      "\n",
      "     Feeling       0.63      0.70      0.67      1179\n",
      "    Thinking       0.59      0.51      0.55       990\n",
      "\n",
      "    accuracy                           0.62      2169\n",
      "   macro avg       0.61      0.61      0.61      2169\n",
      "weighted avg       0.61      0.62      0.61      2169\n",
      "\n"
     ]
    }
   ],
   "source": [
    "grid3 = GridSearchCV(model3, param_grid, verbose=3)\n",
    "\n",
    "# Train the model with GridSearch\n",
    "grid3.fit(X_train_scaled3, encoded_y_train3)\n",
    "\n",
    "print(grid3.best_params_)\n",
    "print(grid3.best_score_)\n",
    "\n",
    "predictions3 = grid3.predict(X_test_scaled3)\n",
    "\n",
    "print(f\"Training Data F_T Score: {grid3.score(X_train_scaled3, encoded_y_train3)}\")\n",
    "print(f\"Testing Data F_T Score: {grid3.score(X_test_scaled3, encoded_y_test3)}\")\n",
    "\n",
    "print(classification_report(encoded_y_test3, predictions3, target_names=target_names3))"
   ]
  },
  {
   "cell_type": "code",
   "execution_count": 32,
   "metadata": {},
   "outputs": [
    {
     "data": {
      "text/plain": [
       "['Models/svm_ft.sav']"
      ]
     },
     "execution_count": 32,
     "metadata": {},
     "output_type": "execute_result"
    }
   ],
   "source": [
    "joblib.dump(grid3.best_estimator_, 'Models/svm_ft.sav')"
   ]
  },
  {
   "cell_type": "markdown",
   "metadata": {},
   "source": [
    "# Re-test for J vs. P"
   ]
  },
  {
   "cell_type": "code",
   "execution_count": 33,
   "metadata": {},
   "outputs": [
    {
     "name": "stdout",
     "output_type": "stream",
     "text": [
      "Training Data J_P Score: 0.6015985244389794\n",
      "Testing Data J_P Score: 0.611802674043338\n",
      "              precision    recall  f1-score   support\n",
      "\n",
      "     Judging       0.00      0.00      0.00       842\n",
      "  Perceiving       0.61      1.00      0.76      1327\n",
      "\n",
      "    accuracy                           0.61      2169\n",
      "   macro avg       0.31      0.50      0.38      2169\n",
      "weighted avg       0.37      0.61      0.46      2169\n",
      "\n"
     ]
    },
    {
     "name": "stderr",
     "output_type": "stream",
     "text": [
      "/Users/Jo/anaconda3/envs/PythonData/lib/python3.6/site-packages/sklearn/metrics/classification.py:1437: UndefinedMetricWarning: Precision and F-score are ill-defined and being set to 0.0 in labels with no predicted samples.\n",
      "  'precision', 'predicted', average, warn_for)\n"
     ]
    }
   ],
   "source": [
    "target4 = mbti_df[\"j_p\"]\n",
    "target_names4 = [\"Judging\",\"Perceiving\"]\n",
    "\n",
    "X_train, X_test, y_train, y_test = train_test_split(selected_features, target4, random_state=42)\n",
    "\n",
    "X_scaler = StandardScaler().fit(X_train)\n",
    "X_train_scaled4 = X_scaler.transform(X_train)\n",
    "X_test_scaled4 = X_scaler.transform(X_test)\n",
    "\n",
    "label_encoder = LabelEncoder()\n",
    "label_encoder.fit(y_train)\n",
    "encoded_y_train4 = label_encoder.transform(y_train)\n",
    "encoded_y_test4 = label_encoder.transform(y_test)\n",
    "\n",
    "model4 = SVC(kernel='linear')\n",
    "model4.fit(X_train_scaled4, encoded_y_train4)\n",
    "\n",
    "print(f\"Training Data J_P Score: {model4.score(X_train_scaled4, encoded_y_train4)}\")\n",
    "print(f\"Testing Data J_P Score: {model4.score(X_test_scaled4, encoded_y_test4)}\")\n",
    "\n",
    "predictions4 = model4.predict(X_test_scaled4)\n",
    "print(classification_report(encoded_y_test4, predictions4,\n",
    "                            target_names=target_names4))"
   ]
  },
  {
   "cell_type": "markdown",
   "metadata": {},
   "source": [
    "# Hypertune"
   ]
  },
  {
   "cell_type": "code",
   "execution_count": 34,
   "metadata": {},
   "outputs": [
    {
     "name": "stderr",
     "output_type": "stream",
     "text": [
      "/Users/Jo/anaconda3/envs/PythonData/lib/python3.6/site-packages/sklearn/model_selection/_split.py:1978: FutureWarning: The default value of cv will change from 3 to 5 in version 0.22. Specify it explicitly to silence this warning.\n",
      "  warnings.warn(CV_WARNING, FutureWarning)\n",
      "[Parallel(n_jobs=1)]: Using backend SequentialBackend with 1 concurrent workers.\n"
     ]
    },
    {
     "name": "stdout",
     "output_type": "stream",
     "text": [
      "Fitting 3 folds for each of 27 candidates, totalling 81 fits\n",
      "[CV] C=1, gamma=0.0001, kernel=linear ................................\n",
      "[CV] .... C=1, gamma=0.0001, kernel=linear, score=0.602, total=   0.4s\n",
      "[CV] C=1, gamma=0.0001, kernel=linear ................................\n"
     ]
    },
    {
     "name": "stderr",
     "output_type": "stream",
     "text": [
      "[Parallel(n_jobs=1)]: Done   1 out of   1 | elapsed:    0.4s remaining:    0.0s\n"
     ]
    },
    {
     "name": "stdout",
     "output_type": "stream",
     "text": [
      "[CV] .... C=1, gamma=0.0001, kernel=linear, score=0.602, total=   0.4s\n",
      "[CV] C=1, gamma=0.0001, kernel=linear ................................\n"
     ]
    },
    {
     "name": "stderr",
     "output_type": "stream",
     "text": [
      "[Parallel(n_jobs=1)]: Done   2 out of   2 | elapsed:    0.8s remaining:    0.0s\n"
     ]
    },
    {
     "name": "stdout",
     "output_type": "stream",
     "text": [
      "[CV] .... C=1, gamma=0.0001, kernel=linear, score=0.601, total=   0.4s\n",
      "[CV] C=1, gamma=0.0001, kernel=rbf ...................................\n",
      "[CV] ....... C=1, gamma=0.0001, kernel=rbf, score=0.602, total=   0.6s\n",
      "[CV] C=1, gamma=0.0001, kernel=rbf ...................................\n",
      "[CV] ....... C=1, gamma=0.0001, kernel=rbf, score=0.602, total=   0.6s\n",
      "[CV] C=1, gamma=0.0001, kernel=rbf ...................................\n",
      "[CV] ....... C=1, gamma=0.0001, kernel=rbf, score=0.601, total=   0.6s\n",
      "[CV] C=1, gamma=0.0001, kernel=poly ..................................\n",
      "[CV] ...... C=1, gamma=0.0001, kernel=poly, score=0.602, total=   0.4s\n",
      "[CV] C=1, gamma=0.0001, kernel=poly ..................................\n",
      "[CV] ...... C=1, gamma=0.0001, kernel=poly, score=0.602, total=   0.4s\n",
      "[CV] C=1, gamma=0.0001, kernel=poly ..................................\n",
      "[CV] ...... C=1, gamma=0.0001, kernel=poly, score=0.601, total=   0.4s\n",
      "[CV] C=1, gamma=0.001, kernel=linear .................................\n",
      "[CV] ..... C=1, gamma=0.001, kernel=linear, score=0.602, total=   0.3s\n",
      "[CV] C=1, gamma=0.001, kernel=linear .................................\n",
      "[CV] ..... C=1, gamma=0.001, kernel=linear, score=0.602, total=   0.4s\n",
      "[CV] C=1, gamma=0.001, kernel=linear .................................\n",
      "[CV] ..... C=1, gamma=0.001, kernel=linear, score=0.601, total=   0.4s\n",
      "[CV] C=1, gamma=0.001, kernel=rbf ....................................\n",
      "[CV] ........ C=1, gamma=0.001, kernel=rbf, score=0.602, total=   0.7s\n",
      "[CV] C=1, gamma=0.001, kernel=rbf ....................................\n",
      "[CV] ........ C=1, gamma=0.001, kernel=rbf, score=0.602, total=   0.7s\n",
      "[CV] C=1, gamma=0.001, kernel=rbf ....................................\n",
      "[CV] ........ C=1, gamma=0.001, kernel=rbf, score=0.601, total=   0.7s\n",
      "[CV] C=1, gamma=0.001, kernel=poly ...................................\n",
      "[CV] ....... C=1, gamma=0.001, kernel=poly, score=0.602, total=   0.4s\n",
      "[CV] C=1, gamma=0.001, kernel=poly ...................................\n",
      "[CV] ....... C=1, gamma=0.001, kernel=poly, score=0.602, total=   0.4s\n",
      "[CV] C=1, gamma=0.001, kernel=poly ...................................\n",
      "[CV] ....... C=1, gamma=0.001, kernel=poly, score=0.601, total=   0.4s\n",
      "[CV] C=1, gamma=0.01, kernel=linear ..................................\n",
      "[CV] ...... C=1, gamma=0.01, kernel=linear, score=0.602, total=   0.4s\n",
      "[CV] C=1, gamma=0.01, kernel=linear ..................................\n",
      "[CV] ...... C=1, gamma=0.01, kernel=linear, score=0.602, total=   0.4s\n",
      "[CV] C=1, gamma=0.01, kernel=linear ..................................\n",
      "[CV] ...... C=1, gamma=0.01, kernel=linear, score=0.601, total=   0.4s\n",
      "[CV] C=1, gamma=0.01, kernel=rbf .....................................\n",
      "[CV] ......... C=1, gamma=0.01, kernel=rbf, score=0.602, total=   0.9s\n",
      "[CV] C=1, gamma=0.01, kernel=rbf .....................................\n",
      "[CV] ......... C=1, gamma=0.01, kernel=rbf, score=0.602, total=   0.9s\n",
      "[CV] C=1, gamma=0.01, kernel=rbf .....................................\n",
      "[CV] ......... C=1, gamma=0.01, kernel=rbf, score=0.601, total=   1.0s\n",
      "[CV] C=1, gamma=0.01, kernel=poly ....................................\n",
      "[CV] ........ C=1, gamma=0.01, kernel=poly, score=0.602, total=   0.6s\n",
      "[CV] C=1, gamma=0.01, kernel=poly ....................................\n",
      "[CV] ........ C=1, gamma=0.01, kernel=poly, score=0.602, total=   0.6s\n",
      "[CV] C=1, gamma=0.01, kernel=poly ....................................\n",
      "[CV] ........ C=1, gamma=0.01, kernel=poly, score=0.601, total=   0.5s\n",
      "[CV] C=5, gamma=0.0001, kernel=linear ................................\n",
      "[CV] .... C=5, gamma=0.0001, kernel=linear, score=0.602, total=   0.7s\n",
      "[CV] C=5, gamma=0.0001, kernel=linear ................................\n",
      "[CV] .... C=5, gamma=0.0001, kernel=linear, score=0.602, total=   0.7s\n",
      "[CV] C=5, gamma=0.0001, kernel=linear ................................\n",
      "[CV] .... C=5, gamma=0.0001, kernel=linear, score=0.601, total=   0.7s\n",
      "[CV] C=5, gamma=0.0001, kernel=rbf ...................................\n",
      "[CV] ....... C=5, gamma=0.0001, kernel=rbf, score=0.602, total=   0.7s\n",
      "[CV] C=5, gamma=0.0001, kernel=rbf ...................................\n",
      "[CV] ....... C=5, gamma=0.0001, kernel=rbf, score=0.602, total=   0.7s\n",
      "[CV] C=5, gamma=0.0001, kernel=rbf ...................................\n",
      "[CV] ....... C=5, gamma=0.0001, kernel=rbf, score=0.601, total=   0.6s\n",
      "[CV] C=5, gamma=0.0001, kernel=poly ..................................\n",
      "[CV] ...... C=5, gamma=0.0001, kernel=poly, score=0.602, total=   0.4s\n",
      "[CV] C=5, gamma=0.0001, kernel=poly ..................................\n",
      "[CV] ...... C=5, gamma=0.0001, kernel=poly, score=0.602, total=   0.4s\n",
      "[CV] C=5, gamma=0.0001, kernel=poly ..................................\n",
      "[CV] ...... C=5, gamma=0.0001, kernel=poly, score=0.601, total=   0.4s\n",
      "[CV] C=5, gamma=0.001, kernel=linear .................................\n",
      "[CV] ..... C=5, gamma=0.001, kernel=linear, score=0.602, total=   0.8s\n",
      "[CV] C=5, gamma=0.001, kernel=linear .................................\n",
      "[CV] ..... C=5, gamma=0.001, kernel=linear, score=0.602, total=   0.7s\n",
      "[CV] C=5, gamma=0.001, kernel=linear .................................\n",
      "[CV] ..... C=5, gamma=0.001, kernel=linear, score=0.601, total=   0.7s\n",
      "[CV] C=5, gamma=0.001, kernel=rbf ....................................\n",
      "[CV] ........ C=5, gamma=0.001, kernel=rbf, score=0.602, total=   0.8s\n",
      "[CV] C=5, gamma=0.001, kernel=rbf ....................................\n",
      "[CV] ........ C=5, gamma=0.001, kernel=rbf, score=0.602, total=   0.8s\n",
      "[CV] C=5, gamma=0.001, kernel=rbf ....................................\n",
      "[CV] ........ C=5, gamma=0.001, kernel=rbf, score=0.601, total=   0.8s\n",
      "[CV] C=5, gamma=0.001, kernel=poly ...................................\n",
      "[CV] ....... C=5, gamma=0.001, kernel=poly, score=0.602, total=   0.4s\n",
      "[CV] C=5, gamma=0.001, kernel=poly ...................................\n",
      "[CV] ....... C=5, gamma=0.001, kernel=poly, score=0.602, total=   0.4s\n",
      "[CV] C=5, gamma=0.001, kernel=poly ...................................\n",
      "[CV] ....... C=5, gamma=0.001, kernel=poly, score=0.601, total=   0.4s\n",
      "[CV] C=5, gamma=0.01, kernel=linear ..................................\n",
      "[CV] ...... C=5, gamma=0.01, kernel=linear, score=0.602, total=   0.8s\n",
      "[CV] C=5, gamma=0.01, kernel=linear ..................................\n",
      "[CV] ...... C=5, gamma=0.01, kernel=linear, score=0.602, total=   0.7s\n",
      "[CV] C=5, gamma=0.01, kernel=linear ..................................\n",
      "[CV] ...... C=5, gamma=0.01, kernel=linear, score=0.601, total=   0.7s\n",
      "[CV] C=5, gamma=0.01, kernel=rbf .....................................\n",
      "[CV] ......... C=5, gamma=0.01, kernel=rbf, score=0.602, total=   1.4s\n",
      "[CV] C=5, gamma=0.01, kernel=rbf .....................................\n",
      "[CV] ......... C=5, gamma=0.01, kernel=rbf, score=0.602, total=   1.5s\n",
      "[CV] C=5, gamma=0.01, kernel=rbf .....................................\n",
      "[CV] ......... C=5, gamma=0.01, kernel=rbf, score=0.601, total=   1.5s\n",
      "[CV] C=5, gamma=0.01, kernel=poly ....................................\n",
      "[CV] ........ C=5, gamma=0.01, kernel=poly, score=0.602, total=   0.7s\n",
      "[CV] C=5, gamma=0.01, kernel=poly ....................................\n",
      "[CV] ........ C=5, gamma=0.01, kernel=poly, score=0.602, total=   0.7s\n",
      "[CV] C=5, gamma=0.01, kernel=poly ....................................\n",
      "[CV] ........ C=5, gamma=0.01, kernel=poly, score=0.601, total=   0.7s\n",
      "[CV] C=10, gamma=0.0001, kernel=linear ...............................\n",
      "[CV] ... C=10, gamma=0.0001, kernel=linear, score=0.602, total=   2.3s\n",
      "[CV] C=10, gamma=0.0001, kernel=linear ...............................\n",
      "[CV] ... C=10, gamma=0.0001, kernel=linear, score=0.602, total=   1.2s\n",
      "[CV] C=10, gamma=0.0001, kernel=linear ...............................\n",
      "[CV] ... C=10, gamma=0.0001, kernel=linear, score=0.601, total=   1.8s\n",
      "[CV] C=10, gamma=0.0001, kernel=rbf ..................................\n",
      "[CV] ...... C=10, gamma=0.0001, kernel=rbf, score=0.602, total=   0.7s\n",
      "[CV] C=10, gamma=0.0001, kernel=rbf ..................................\n",
      "[CV] ...... C=10, gamma=0.0001, kernel=rbf, score=0.602, total=   0.7s\n",
      "[CV] C=10, gamma=0.0001, kernel=rbf ..................................\n",
      "[CV] ...... C=10, gamma=0.0001, kernel=rbf, score=0.601, total=   0.7s\n",
      "[CV] C=10, gamma=0.0001, kernel=poly .................................\n"
     ]
    },
    {
     "name": "stdout",
     "output_type": "stream",
     "text": [
      "[CV] ..... C=10, gamma=0.0001, kernel=poly, score=0.602, total=   0.4s\n",
      "[CV] C=10, gamma=0.0001, kernel=poly .................................\n",
      "[CV] ..... C=10, gamma=0.0001, kernel=poly, score=0.602, total=   0.4s\n",
      "[CV] C=10, gamma=0.0001, kernel=poly .................................\n",
      "[CV] ..... C=10, gamma=0.0001, kernel=poly, score=0.601, total=   0.4s\n",
      "[CV] C=10, gamma=0.001, kernel=linear ................................\n",
      "[CV] .... C=10, gamma=0.001, kernel=linear, score=0.602, total=   2.3s\n",
      "[CV] C=10, gamma=0.001, kernel=linear ................................\n",
      "[CV] .... C=10, gamma=0.001, kernel=linear, score=0.602, total=   1.2s\n",
      "[CV] C=10, gamma=0.001, kernel=linear ................................\n",
      "[CV] .... C=10, gamma=0.001, kernel=linear, score=0.601, total=   1.9s\n",
      "[CV] C=10, gamma=0.001, kernel=rbf ...................................\n",
      "[CV] ....... C=10, gamma=0.001, kernel=rbf, score=0.602, total=   0.9s\n",
      "[CV] C=10, gamma=0.001, kernel=rbf ...................................\n",
      "[CV] ....... C=10, gamma=0.001, kernel=rbf, score=0.602, total=   0.9s\n",
      "[CV] C=10, gamma=0.001, kernel=rbf ...................................\n",
      "[CV] ....... C=10, gamma=0.001, kernel=rbf, score=0.601, total=   0.9s\n",
      "[CV] C=10, gamma=0.001, kernel=poly ..................................\n",
      "[CV] ...... C=10, gamma=0.001, kernel=poly, score=0.602, total=   0.4s\n",
      "[CV] C=10, gamma=0.001, kernel=poly ..................................\n",
      "[CV] ...... C=10, gamma=0.001, kernel=poly, score=0.602, total=   0.4s\n",
      "[CV] C=10, gamma=0.001, kernel=poly ..................................\n",
      "[CV] ...... C=10, gamma=0.001, kernel=poly, score=0.601, total=   0.4s\n",
      "[CV] C=10, gamma=0.01, kernel=linear .................................\n",
      "[CV] ..... C=10, gamma=0.01, kernel=linear, score=0.602, total=   2.2s\n",
      "[CV] C=10, gamma=0.01, kernel=linear .................................\n",
      "[CV] ..... C=10, gamma=0.01, kernel=linear, score=0.602, total=   1.1s\n",
      "[CV] C=10, gamma=0.01, kernel=linear .................................\n",
      "[CV] ..... C=10, gamma=0.01, kernel=linear, score=0.601, total=   1.8s\n",
      "[CV] C=10, gamma=0.01, kernel=rbf ....................................\n",
      "[CV] ........ C=10, gamma=0.01, kernel=rbf, score=0.602, total=   1.7s\n",
      "[CV] C=10, gamma=0.01, kernel=rbf ....................................\n",
      "[CV] ........ C=10, gamma=0.01, kernel=rbf, score=0.602, total=   1.5s\n",
      "[CV] C=10, gamma=0.01, kernel=rbf ....................................\n",
      "[CV] ........ C=10, gamma=0.01, kernel=rbf, score=0.601, total=   1.6s\n",
      "[CV] C=10, gamma=0.01, kernel=poly ...................................\n",
      "[CV] ....... C=10, gamma=0.01, kernel=poly, score=0.602, total=   0.8s\n",
      "[CV] C=10, gamma=0.01, kernel=poly ...................................\n",
      "[CV] ....... C=10, gamma=0.01, kernel=poly, score=0.602, total=   0.7s\n",
      "[CV] C=10, gamma=0.01, kernel=poly ...................................\n",
      "[CV] ....... C=10, gamma=0.01, kernel=poly, score=0.601, total=   0.7s\n"
     ]
    },
    {
     "name": "stderr",
     "output_type": "stream",
     "text": [
      "[Parallel(n_jobs=1)]: Done  81 out of  81 | elapsed:  1.1min finished\n"
     ]
    },
    {
     "name": "stdout",
     "output_type": "stream",
     "text": [
      "{'C': 1, 'gamma': 0.0001, 'kernel': 'linear'}\n",
      "0.6015985244389794\n",
      "Training Data J_P Score: 0.6015985244389794\n",
      "Testing Data J_P Score: 0.611802674043338\n",
      "              precision    recall  f1-score   support\n",
      "\n",
      "     Judging       0.00      0.00      0.00       842\n",
      "  Perceiving       0.61      1.00      0.76      1327\n",
      "\n",
      "    accuracy                           0.61      2169\n",
      "   macro avg       0.31      0.50      0.38      2169\n",
      "weighted avg       0.37      0.61      0.46      2169\n",
      "\n"
     ]
    },
    {
     "name": "stderr",
     "output_type": "stream",
     "text": [
      "/Users/Jo/anaconda3/envs/PythonData/lib/python3.6/site-packages/sklearn/metrics/classification.py:1437: UndefinedMetricWarning: Precision and F-score are ill-defined and being set to 0.0 in labels with no predicted samples.\n",
      "  'precision', 'predicted', average, warn_for)\n"
     ]
    }
   ],
   "source": [
    "grid4 = GridSearchCV(model4, param_grid, verbose=3)\n",
    "\n",
    "# Train the model with GridSearch\n",
    "grid4.fit(X_train_scaled4, encoded_y_train4)\n",
    "\n",
    "print(grid4.best_params_)\n",
    "print(grid4.best_score_)\n",
    "\n",
    "predictions4 = grid4.predict(X_test_scaled4)\n",
    "\n",
    "print(f\"Training Data J_P Score: {grid4.score(X_train_scaled2, encoded_y_train4)}\")\n",
    "print(f\"Testing Data J_P Score: {grid4.score(X_test_scaled2, encoded_y_test4)}\")\n",
    "\n",
    "print(classification_report(encoded_y_test4, predictions4, target_names=target_names4))"
   ]
  },
  {
   "cell_type": "code",
   "execution_count": 35,
   "metadata": {},
   "outputs": [
    {
     "data": {
      "text/plain": [
       "['Models/svm_jp.sav']"
      ]
     },
     "execution_count": 35,
     "metadata": {},
     "output_type": "execute_result"
    }
   ],
   "source": [
    "joblib.dump(grid4.best_estimator_, 'Models/svm_jp.sav')"
   ]
  },
  {
   "cell_type": "markdown",
   "metadata": {},
   "source": [
    "# Test"
   ]
  },
  {
   "cell_type": "code",
   "execution_count": 3,
   "metadata": {},
   "outputs": [
    {
     "name": "stderr",
     "output_type": "stream",
     "text": [
      "/Users/Jo/anaconda3/envs/PythonData/lib/python3.6/site-packages/sklearn/base.py:306: UserWarning: Trying to unpickle estimator SVC from version 0.21.3 when using version 0.21.2. This might lead to breaking code or invalid results. Use at your own risk.\n",
      "  UserWarning)\n"
     ]
    }
   ],
   "source": [
    "test = joblib.load('Models/svm_jp.sav')"
   ]
  },
  {
   "cell_type": "code",
   "execution_count": 4,
   "metadata": {},
   "outputs": [
    {
     "data": {
      "text/plain": [
       "SVC(C=1, cache_size=200, class_weight=None, coef0=0.0,\n",
       "    decision_function_shape='ovr', degree=3, gamma=0.0001, kernel='linear',\n",
       "    max_iter=-1, probability=False, random_state=None, shrinking=True,\n",
       "    tol=0.001, verbose=False)"
      ]
     },
     "execution_count": 4,
     "metadata": {},
     "output_type": "execute_result"
    }
   ],
   "source": [
    "test"
   ]
  },
  {
   "cell_type": "code",
   "execution_count": 45,
   "metadata": {},
   "outputs": [
    {
     "data": {
      "text/plain": [
       "array([1, 1, 1, 1, 1])"
      ]
     },
     "execution_count": 45,
     "metadata": {},
     "output_type": "execute_result"
    }
   ],
   "source": [
    "pred_test = test.predict(X_test_scaled4[:5])\n",
    "pred_test"
   ]
  },
  {
   "cell_type": "code",
   "execution_count": 47,
   "metadata": {},
   "outputs": [
    {
     "data": {
      "text/plain": [
       "array(['P', 'P', 'P', 'P', 'P'], dtype=object)"
      ]
     },
     "execution_count": 47,
     "metadata": {},
     "output_type": "execute_result"
    }
   ],
   "source": [
    "label_encoder.inverse_transform(pred_test)"
   ]
  },
  {
   "cell_type": "code",
   "execution_count": 42,
   "metadata": {},
   "outputs": [
    {
     "data": {
      "text/plain": [
       "array([1, 1, 1, 0, 0])"
      ]
     },
     "execution_count": 42,
     "metadata": {},
     "output_type": "execute_result"
    }
   ],
   "source": [
    "encoded_y_train4[:5]"
   ]
  },
  {
   "cell_type": "markdown",
   "metadata": {},
   "source": []
  }
 ],
 "metadata": {
  "kernel_info": {
   "name": "dev"
  },
  "kernelspec": {
   "display_name": "Python 3",
   "language": "python",
   "name": "python3"
  },
  "language_info": {
   "codemirror_mode": {
    "name": "ipython",
    "version": 3
   },
   "file_extension": ".py",
   "mimetype": "text/x-python",
   "name": "python",
   "nbconvert_exporter": "python",
   "pygments_lexer": "ipython3",
   "version": "3.6.9"
  },
  "nteract": {
   "version": "0.12.3"
  }
 },
 "nbformat": 4,
 "nbformat_minor": 2
}
